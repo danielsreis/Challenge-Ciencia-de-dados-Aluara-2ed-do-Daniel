{
  "nbformat": 4,
  "nbformat_minor": 0,
  "metadata": {
    "colab": {
      "provenance": [],
      "authorship_tag": "ABX9TyPnHjvvam0ukmpDMjnxjqrU",
      "include_colab_link": true
    },
    "kernelspec": {
      "name": "python3",
      "display_name": "Python 3"
    },
    "language_info": {
      "name": "python"
    }
  },
  "cells": [
    {
      "cell_type": "markdown",
      "metadata": {
        "id": "view-in-github",
        "colab_type": "text"
      },
      "source": [
        "<a href=\"https://colab.research.google.com/github/danielsreis/Challenge-Ciencia-de-dados-Aluara-2ed-do-Daniel/blob/main/Challenge_Alura_2_ed_do_Daniel.ipynb\" target=\"_parent\"><img src=\"https://colab.research.google.com/assets/colab-badge.svg\" alt=\"Open In Colab\"/></a>"
      ]
    },
    {
      "cell_type": "markdown",
      "source": [
        "# Instalando pacotes opicionais"
      ],
      "metadata": {
        "id": "o45mr2Qy5O0M"
      }
    },
    {
      "cell_type": "code",
      "execution_count": null,
      "metadata": {
        "colab": {
          "base_uri": "https://localhost:8080/"
        },
        "id": "bIef7Xpr46Xz",
        "outputId": "46f6eeb6-9be0-4d1f-cc65-090b7b8f5e62"
      },
      "outputs": [
        {
          "output_type": "stream",
          "name": "stdout",
          "text": [
            " \n",
            "Instalação concluída._____________________________________________________________________________________\n",
            " \n"
          ]
        }
      ],
      "source": [
        "!apt-get update -qq\n",
        "!apt-get install openjdk-8-jdk-headless -qq > /dev/null\n",
        "!wget -q https://archive.apache.org/dist/spark/spark-3.1.2/spark-3.1.2-bin-hadoop2.7.tgz\n",
        "!tar xf spark-3.1.2-bin-hadoop2.7.tgz\n",
        "!pip install -q findspark\n",
        "\n",
        "print(' ')\n",
        "print('Instalação concluída._____________________________________________________________________________________')\n",
        "print(' ')"
      ]
    },
    {
      "cell_type": "code",
      "source": [
        "import os\n",
        "os.environ[\"JAVA_HOME\"] = \"/usr/lib/jvm/java-8-openjdk-amd64\"\n",
        "os.environ[\"SPARK_HOME\"] = \"/content/spark-3.1.2-bin-hadoop2.7\""
      ],
      "metadata": {
        "id": "qH3oUT7Jpl2I"
      },
      "execution_count": null,
      "outputs": []
    },
    {
      "cell_type": "code",
      "source": [
        "import findspark\n",
        "findspark.init()"
      ],
      "metadata": {
        "id": "UJJKeMNgppLi"
      },
      "execution_count": null,
      "outputs": []
    },
    {
      "cell_type": "markdown",
      "source": [
        "# Instalando Pyspark - metodo simples\n"
      ],
      "metadata": {
        "id": "LQEZO275vUQY"
      }
    },
    {
      "cell_type": "code",
      "source": [
        "!pip install pyspark"
      ],
      "metadata": {
        "colab": {
          "base_uri": "https://localhost:8080/"
        },
        "id": "6p28R0qIvTyg",
        "outputId": "602c0f2a-32db-41ce-e6ec-4c03c351a34e"
      },
      "execution_count": null,
      "outputs": [
        {
          "output_type": "stream",
          "name": "stdout",
          "text": [
            "Looking in indexes: https://pypi.org/simple, https://us-python.pkg.dev/colab-wheels/public/simple/\n",
            "Collecting pyspark\n",
            "  Downloading pyspark-3.3.1.tar.gz (281.4 MB)\n",
            "\u001b[K     |████████████████████████████████| 281.4 MB 19 kB/s \n",
            "\u001b[?25hCollecting py4j==0.10.9.5\n",
            "  Downloading py4j-0.10.9.5-py2.py3-none-any.whl (199 kB)\n",
            "\u001b[K     |████████████████████████████████| 199 kB 39.7 MB/s \n",
            "\u001b[?25hBuilding wheels for collected packages: pyspark\n",
            "  Building wheel for pyspark (setup.py) ... \u001b[?25l\u001b[?25hdone\n",
            "  Created wheel for pyspark: filename=pyspark-3.3.1-py2.py3-none-any.whl size=281845512 sha256=147b82b145a2d7cb068d1d98d43002ad3b266ca46d68ddf0ebc802eeadeef6e3\n",
            "  Stored in directory: /root/.cache/pip/wheels/42/59/f5/79a5bf931714dcd201b26025347785f087370a10a3329a899c\n",
            "Successfully built pyspark\n",
            "Installing collected packages: py4j, pyspark\n",
            "Successfully installed py4j-0.10.9.5 pyspark-3.3.1\n"
          ]
        }
      ]
    },
    {
      "cell_type": "markdown",
      "source": [
        "# Instalação comum"
      ],
      "metadata": {
        "id": "rXRBbzi3vk-Z"
      }
    },
    {
      "cell_type": "code",
      "source": [
        " # Importando o SparkSession\n",
        "from pyspark.sql import SparkSession\n",
        "# Criando a seção Spark\n",
        "spark = spark = SparkSession.builder \\\n",
        "    .master('local[*]') \\\n",
        "    .appName('Iniciando com Spark') \\\n",
        "    .config('spark.ui.port', '4050') \\\n",
        "    .getOrCreate() \n",
        "# Verificando as informações da seção do Spark\n",
        "spark\n",
        "\n"
      ],
      "metadata": {
        "colab": {
          "base_uri": "https://localhost:8080/",
          "height": 219
        },
        "id": "h51hBN26pVZQ",
        "outputId": "272ebd04-46a3-4486-abd3-26fbbf32008d"
      },
      "execution_count": null,
      "outputs": [
        {
          "output_type": "execute_result",
          "data": {
            "text/plain": [
              "<pyspark.sql.session.SparkSession at 0x7f70500f2690>"
            ],
            "text/html": [
              "\n",
              "            <div>\n",
              "                <p><b>SparkSession - in-memory</b></p>\n",
              "                \n",
              "        <div>\n",
              "            <p><b>SparkContext</b></p>\n",
              "\n",
              "            <p><a href=\"http://2d69db1efff0:4050\">Spark UI</a></p>\n",
              "\n",
              "            <dl>\n",
              "              <dt>Version</dt>\n",
              "                <dd><code>v3.3.1</code></dd>\n",
              "              <dt>Master</dt>\n",
              "                <dd><code>local[*]</code></dd>\n",
              "              <dt>AppName</dt>\n",
              "                <dd><code>Iniciando com Spark</code></dd>\n",
              "            </dl>\n",
              "        </div>\n",
              "        \n",
              "            </div>\n",
              "        "
            ]
          },
          "metadata": {},
          "execution_count": 2
        }
      ]
    },
    {
      "cell_type": "code",
      "source": [
        "from pyspark.sql.functions import explode\n",
        "import numpy as np  \n",
        "import pandas as pd"
      ],
      "metadata": {
        "id": "3ozOhVTe5S44"
      },
      "execution_count": null,
      "outputs": []
    },
    {
      "cell_type": "markdown",
      "source": [
        "# Carregando o arquivo"
      ],
      "metadata": {
        "id": "b6mbfFSC8pRE"
      }
    },
    {
      "cell_type": "code",
      "source": [
        "%%time\n",
        "df = spark.read.json('dataset_bruto.json')\n"
      ],
      "metadata": {
        "colab": {
          "base_uri": "https://localhost:8080/"
        },
        "id": "xiiUW6ET7oA8",
        "outputId": "f2159017-d4f7-46be-a7cd-4424a1074fe1"
      },
      "execution_count": null,
      "outputs": [
        {
          "output_type": "stream",
          "name": "stdout",
          "text": [
            "CPU times: user 104 ms, sys: 12.3 ms, total: 117 ms\n",
            "Wall time: 14.4 s\n"
          ]
        }
      ]
    },
    {
      "cell_type": "code",
      "source": [
        "%%time\n",
        "df_pandas = pd.read_json('dataset_bruto.json')"
      ],
      "metadata": {
        "colab": {
          "base_uri": "https://localhost:8080/"
        },
        "id": "9vvlfyFc-wVO",
        "outputId": "762cbf54-07be-420d-d001-7512ef00cd1e"
      },
      "execution_count": null,
      "outputs": [
        {
          "output_type": "stream",
          "name": "stdout",
          "text": [
            "CPU times: user 3.99 s, sys: 1.62 s, total: 5.62 s\n",
            "Wall time: 5.65 s\n"
          ]
        }
      ]
    },
    {
      "cell_type": "code",
      "source": [
        "df.printSchema()"
      ],
      "metadata": {
        "colab": {
          "base_uri": "https://localhost:8080/"
        },
        "id": "dIw9sPeU-smS",
        "outputId": "4eeca5d9-4cb0-49cb-d854-dae21c1612c3"
      },
      "execution_count": null,
      "outputs": [
        {
          "output_type": "stream",
          "name": "stdout",
          "text": [
            "root\n",
            " |-- anuncio: struct (nullable = true)\n",
            " |    |-- andar: long (nullable = true)\n",
            " |    |-- area_total: array (nullable = true)\n",
            " |    |    |-- element: string (containsNull = true)\n",
            " |    |-- area_util: array (nullable = true)\n",
            " |    |    |-- element: string (containsNull = true)\n",
            " |    |-- banheiros: array (nullable = true)\n",
            " |    |    |-- element: long (containsNull = true)\n",
            " |    |-- caracteristicas: array (nullable = true)\n",
            " |    |    |-- element: string (containsNull = true)\n",
            " |    |-- endereco: struct (nullable = true)\n",
            " |    |    |-- bairro: string (nullable = true)\n",
            " |    |    |-- cep: string (nullable = true)\n",
            " |    |    |-- cidade: string (nullable = true)\n",
            " |    |    |-- estado: string (nullable = true)\n",
            " |    |    |-- latitude: double (nullable = true)\n",
            " |    |    |-- longitude: double (nullable = true)\n",
            " |    |    |-- pais: string (nullable = true)\n",
            " |    |    |-- rua: string (nullable = true)\n",
            " |    |    |-- zona: string (nullable = true)\n",
            " |    |-- id: string (nullable = true)\n",
            " |    |-- quartos: array (nullable = true)\n",
            " |    |    |-- element: long (containsNull = true)\n",
            " |    |-- suites: array (nullable = true)\n",
            " |    |    |-- element: long (containsNull = true)\n",
            " |    |-- tipo_anuncio: string (nullable = true)\n",
            " |    |-- tipo_unidade: string (nullable = true)\n",
            " |    |-- tipo_uso: string (nullable = true)\n",
            " |    |-- vaga: array (nullable = true)\n",
            " |    |    |-- element: long (containsNull = true)\n",
            " |    |-- valores: array (nullable = true)\n",
            " |    |    |-- element: struct (containsNull = true)\n",
            " |    |    |    |-- condominio: string (nullable = true)\n",
            " |    |    |    |-- iptu: string (nullable = true)\n",
            " |    |    |    |-- tipo: string (nullable = true)\n",
            " |    |    |    |-- valor: string (nullable = true)\n",
            " |-- imagens: array (nullable = true)\n",
            " |    |-- element: struct (containsNull = true)\n",
            " |    |    |-- id: string (nullable = true)\n",
            " |    |    |-- url: string (nullable = true)\n",
            " |-- usuario: struct (nullable = true)\n",
            " |    |-- id: string (nullable = true)\n",
            " |    |-- nome: string (nullable = true)\n",
            "\n"
          ]
        }
      ]
    },
    {
      "cell_type": "markdown",
      "source": [
        "# Exploração"
      ],
      "metadata": {
        "id": "KVkb7CshyS6w"
      }
    },
    {
      "cell_type": "code",
      "source": [
        "df.count()"
      ],
      "metadata": {
        "colab": {
          "base_uri": "https://localhost:8080/"
        },
        "id": "okAZ__MrpicO",
        "outputId": "5f387dad-196e-4b44-8f13-65d1e44e5ac8"
      },
      "execution_count": null,
      "outputs": [
        {
          "output_type": "execute_result",
          "data": {
            "text/plain": [
              "89083"
            ]
          },
          "metadata": {},
          "execution_count": 6
        }
      ]
    },
    {
      "cell_type": "code",
      "source": [
        "# Deletar as colunas imagens e usuário,  que não serão usadas nessa análise\n",
        "colunas = ['imagens' ,  'usuario']\n",
        "df.drop(*colunas).printSchema() # Tem que colocar a '*' em caso de multiplas colunas\n"
      ],
      "metadata": {
        "colab": {
          "base_uri": "https://localhost:8080/"
        },
        "id": "Hb9BRNb4Ala9",
        "outputId": "e617d295-aa40-4b10-f989-cada51665ad9"
      },
      "execution_count": null,
      "outputs": [
        {
          "output_type": "stream",
          "name": "stdout",
          "text": [
            "root\n",
            " |-- _corrupt_record: string (nullable = true)\n",
            "\n"
          ]
        }
      ]
    },
    {
      "cell_type": "markdown",
      "source": [
        "Criando uma nova varável, porque com df não apaga os usb níveis indesejáveis"
      ],
      "metadata": {
        "id": "B11RvgICv51_"
      }
    },
    {
      "cell_type": "code",
      "source": [
        "anuncio = df.select('anuncio.*')\n",
        "anuncio.show()"
      ],
      "metadata": {
        "colab": {
          "base_uri": "https://localhost:8080/"
        },
        "id": "Ps5LAlliPXE5",
        "outputId": "11b11ddc-310e-407d-a073-537e863f6084"
      },
      "execution_count": null,
      "outputs": [
        {
          "output_type": "stream",
          "name": "stdout",
          "text": [
            "+-----+----------+---------+---------+--------------------+--------------------+--------------------+-------+------+------------+------------+-----------+----+--------------------+\n",
            "|andar|area_total|area_util|banheiros|     caracteristicas|            endereco|                  id|quartos|suites|tipo_anuncio|tipo_unidade|   tipo_uso|vaga|             valores|\n",
            "+-----+----------+---------+---------+--------------------+--------------------+--------------------+-------+------+------------+------------+-----------+----+--------------------+\n",
            "|    0|        []|     [16]|      [0]|                  []|{Centro, 20061003...|47d553e0-79f2-4a4...|    [0]|   [0]|       Usado|      Outros|  Comercial| [1]|[{260, 107, Venda...|\n",
            "|    0|        []|     [14]|      [0]|                  []|{Centro, 20051040...|b6ffbae1-17f6-487...|    [0]|    []|       Usado|      Outros|  Comercial| [0]|[{260, 107, Venda...|\n",
            "|    0|    [1026]|   [1026]|      [0]|                  []|{Maria da Graça, ...|1fb030a5-9e3e-4a1...|    [0]|    []|       Usado|      Outros|  Comercial| [0]|[{null, 1613, Ven...|\n",
            "|    0|     [120]|    [120]|      [0]|[Portão eletrônic...|{Campo Grande, 23...|ac6cb348-69d6-45a...|    [0]|    []|       Usado|      Outros|Residencial|  []|[{80, null, Venda...|\n",
            "|    0|       [3]|      [3]|      [0]|                  []|{São Cristóvão, 2...|e032b908-ef42-4d4...|    [0]|    []|       Usado|      Outros|Residencial|  []|[{0, 0, Venda, 50...|\n",
            "|    0|      [20]|     [15]|      [1]|                  []|{Centro, 20231047...|df9cf0b8-b972-433...|    [0]|    []|       Usado|      Outros|  Comercial| [1]|[{223, 87, Venda,...|\n",
            "|    3|      [43]|     [43]|      [1]|[Academia, Churra...|{Paciência, 23585...|d2e3a3aa-09b5-45a...|    [2]|    []|       Usado| Apartamento|Residencial| [1]|[{245, null, Vend...|\n",
            "|    2|      [42]|     [42]|      [1]|[Churrasqueira, P...|{Paciência, 23585...|085bab2c-87ad-452...|    [2]|    []|       Usado| Apartamento|Residencial| [1]|[{0, 0, Venda, 15...|\n",
            "|    0|        []|     [12]|      [0]|[Portaria 24h, El...|{Centro, 20231047...|096ad966-dc36-47b...|    [0]|    []|       Usado|      Outros|  Comercial| [1]|[{250, null, Vend...|\n",
            "|    1|      [41]|     [41]|      [1]|[Portaria 24h, Co...|{Guaratiba, 23036...|18d22cbe-1b86-476...|    [2]|    []|       Usado| Apartamento|Residencial| [1]|[{0, 0, Venda, 20...|\n",
            "|    3|      [43]|     [43]|      [1]|[Churrasqueira, P...|{Cosmos, 23066271...|bed8a354-9317-442...|    [2]|    []|       Usado| Apartamento|Residencial| [0]|[{285, null, Vend...|\n",
            "|    0|      [10]|      [4]|      [0]|[Elevador, Portar...|{Centro, 20080021...|b7d0fbd3-0b28-420...|    [0]|    []|       Usado|      Outros|  Comercial| [0]|[{200, 86, Venda,...|\n",
            "|    0|      [12]|     [12]|      [1]|      [Portaria 24h]|{Copacabana, 2202...|c6571c11-166e-4a4...|    [0]|    []|       Usado|      Outros|  Comercial|  []|[{470, null, Vend...|\n",
            "|    0|      [17]|     [17]|      [0]|          [Elevador]|{Centro, 20070021...|46d5b560-205f-45f...|    [0]|    []|       Usado|      Outros|  Comercial| [1]|[{294, 98, Venda,...|\n",
            "|    1|      [32]|     [32]|       []|[Elevador, Condom...|{Centro, 20090020...|db197997-00e6-4d6...|     []|    []|       Usado|      Outros|  Comercial| [1]|[{684, null, Vend...|\n",
            "|    0|        []|     [10]|      [0]|[Elevador, Condom...|{Saúde, 20080040,...|835d4338-4aa9-4e4...|    [0]|    []|       Usado|      Outros|  Comercial|  []|[{0, 120, Venda, ...|\n",
            "|    2|      [43]|     [43]|      [1]|[Academia, Churra...|{Guaratiba, 23036...|12a13315-d67f-48f...|    [2]|    []|       Usado| Apartamento|Residencial| [1]|[{245, null, Vend...|\n",
            "|    3|      [43]|     [43]|      [1]|[Churrasqueira, P...|{Cosmos, 23066271...|a2e6d7a5-0ff0-484...|    [2]|   [0]|       Usado| Apartamento|Residencial| [0]|[{285, null, Vend...|\n",
            "|    3|      [43]|     [43]|      [1]|[Churrasqueira, P...|{Paciência, 23585...|a6e3173b-c950-4db...|    [2]|    []|       Usado| Apartamento|Residencial| [1]|[{250, null, Vend...|\n",
            "|    3|      [43]|     [43]|      [1]|[Churrasqueira, P...|{Guaratiba, 23036...|2e6e5dfb-206c-496...|    [2]|   [0]|       Usado| Apartamento|Residencial| [1]|[{245, null, Vend...|\n",
            "+-----+----------+---------+---------+--------------------+--------------------+--------------------+-------+------+------------+------------+-----------+----+--------------------+\n",
            "only showing top 20 rows\n",
            "\n"
          ]
        }
      ]
    },
    {
      "cell_type": "code",
      "source": [
        "anuncio.printSchema()"
      ],
      "metadata": {
        "colab": {
          "base_uri": "https://localhost:8080/"
        },
        "id": "LCX-x18_JnsJ",
        "outputId": "a621cb85-6457-4d77-9c09-57e5420948a6"
      },
      "execution_count": null,
      "outputs": [
        {
          "output_type": "stream",
          "name": "stdout",
          "text": [
            "root\n",
            " |-- andar: long (nullable = true)\n",
            " |-- area_total: array (nullable = true)\n",
            " |    |-- element: string (containsNull = true)\n",
            " |-- area_util: array (nullable = true)\n",
            " |    |-- element: string (containsNull = true)\n",
            " |-- banheiros: array (nullable = true)\n",
            " |    |-- element: long (containsNull = true)\n",
            " |-- caracteristicas: array (nullable = true)\n",
            " |    |-- element: string (containsNull = true)\n",
            " |-- endereco: struct (nullable = true)\n",
            " |    |-- bairro: string (nullable = true)\n",
            " |    |-- cep: string (nullable = true)\n",
            " |    |-- cidade: string (nullable = true)\n",
            " |    |-- estado: string (nullable = true)\n",
            " |    |-- latitude: double (nullable = true)\n",
            " |    |-- longitude: double (nullable = true)\n",
            " |    |-- pais: string (nullable = true)\n",
            " |    |-- rua: string (nullable = true)\n",
            " |    |-- zona: string (nullable = true)\n",
            " |-- id: string (nullable = true)\n",
            " |-- quartos: array (nullable = true)\n",
            " |    |-- element: long (containsNull = true)\n",
            " |-- suites: array (nullable = true)\n",
            " |    |-- element: long (containsNull = true)\n",
            " |-- tipo_anuncio: string (nullable = true)\n",
            " |-- tipo_unidade: string (nullable = true)\n",
            " |-- tipo_uso: string (nullable = true)\n",
            " |-- vaga: array (nullable = true)\n",
            " |    |-- element: long (containsNull = true)\n",
            " |-- valores: array (nullable = true)\n",
            " |    |-- element: struct (containsNull = true)\n",
            " |    |    |-- condominio: string (nullable = true)\n",
            " |    |    |-- iptu: string (nullable = true)\n",
            " |    |    |-- tipo: string (nullable = true)\n",
            " |    |    |-- valor: string (nullable = true)\n",
            "\n"
          ]
        }
      ]
    },
    {
      "cell_type": "markdown",
      "source": [
        "Planificando as colunas"
      ],
      "metadata": {
        "id": "WaEaU4VtwJ8-"
      }
    },
    {
      "cell_type": "code",
      "source": [
        "from pyspark.sql.functions import *\n",
        "from pyspark.sql.types import *\n",
        "\n",
        "def read_nested_json(anuncio):\n",
        "    column_list = []\n",
        "\n",
        "    for column_name in anuncio.schema.names:\n",
        "        print(\"Outside isinstance loop: \" + column_name)\n",
        "        # Checking column type is ArrayType\n",
        "        if isinstance(anuncio.schema[column_name].dataType, ArrayType):\n",
        "            print(\"Inside isinstance loop of ArrayType: \" + column_name)\n",
        "            anuncio = anuncio.withColumn(column_name, explode_outer(column_name).alias(column_name))\n",
        "            column_list.append(column_name)\n",
        "\n",
        "        elif isinstance(anuncio.schema[column_name].dataType, StructType):\n",
        "            print(\"Inside isinstance loop of StructType: \" + column_name)\n",
        "            for field in anuncio.schema[column_name].dataType.fields:\n",
        "                column_list.append(col(column_name + \".\" + field.name).alias(column_name + \"_\" + field.name))\n",
        "        else:\n",
        "            column_list.append(column_name)\n",
        "\n",
        "    # Selecting columns using column_list from dataframe: anuncio\n",
        "    anuncio = anuncio.select(column_list)\n",
        "    return anuncio\n",
        "\n",
        "read_nested_json_flag = True\n",
        "\n",
        "while read_nested_json_flag:\n",
        "  print(\"Reading Nested JSON File ... \")\n",
        "  anuncio = read_nested_json(anuncio)\n",
        "  anuncio.show(10, False)\n",
        "  read_nested_json_flag = False\n",
        "\n",
        "  for column_name in anuncio.schema.names:\n",
        "    if isinstance(anuncio.schema[column_name].dataType, ArrayType):\n",
        "      read_nested_json_flag = True\n",
        "    elif isinstance(anuncio.schema[column_name].dataType, StructType):\n",
        "      read_nested_json_flag = True\n"
      ],
      "metadata": {
        "colab": {
          "base_uri": "https://localhost:8080/"
        },
        "id": "4Q67XvT8J2yd",
        "outputId": "43199812-311b-4c0b-aed7-483b14b13068"
      },
      "execution_count": null,
      "outputs": [
        {
          "output_type": "stream",
          "name": "stdout",
          "text": [
            "Reading Nested JSON File ... \n",
            "Outside isinstance loop: andar\n",
            "Outside isinstance loop: area_total\n",
            "Inside isinstance loop of ArrayType: area_total\n",
            "Outside isinstance loop: area_util\n",
            "Inside isinstance loop of ArrayType: area_util\n",
            "Outside isinstance loop: banheiros\n",
            "Inside isinstance loop of ArrayType: banheiros\n",
            "Outside isinstance loop: caracteristicas\n",
            "Inside isinstance loop of ArrayType: caracteristicas\n",
            "Outside isinstance loop: endereco\n",
            "Inside isinstance loop of StructType: endereco\n",
            "Outside isinstance loop: id\n",
            "Outside isinstance loop: quartos\n",
            "Inside isinstance loop of ArrayType: quartos\n",
            "Outside isinstance loop: suites\n",
            "Inside isinstance loop of ArrayType: suites\n",
            "Outside isinstance loop: tipo_anuncio\n",
            "Outside isinstance loop: tipo_unidade\n",
            "Outside isinstance loop: tipo_uso\n",
            "Outside isinstance loop: vaga\n",
            "Inside isinstance loop of ArrayType: vaga\n",
            "Outside isinstance loop: valores\n",
            "Inside isinstance loop of ArrayType: valores\n",
            "+-----+----------+---------+---------+------------------+---------------+------------+---------------+---------------+-----------------+------------------+-------------+--------------------------+-------------+------------------------------------+-------+------+------------+------------+-----------+----+--------------------------+\n",
            "|andar|area_total|area_util|banheiros|caracteristicas   |endereco_bairro|endereco_cep|endereco_cidade|endereco_estado|endereco_latitude|endereco_longitude|endereco_pais|endereco_rua              |endereco_zona|id                                  |quartos|suites|tipo_anuncio|tipo_unidade|tipo_uso   |vaga|valores                   |\n",
            "+-----+----------+---------+---------+------------------+---------------+------------+---------------+---------------+-----------------+------------------+-------------+--------------------------+-------------+------------------------------------+-------+------+------------+------------+-----------+----+--------------------------+\n",
            "|0    |null      |16       |0        |null              |Centro         |20061003    |Rio de Janeiro |Rio de Janeiro |-22.906082       |-43.18671         |BR           |Rua Buenos Aires          |Zona Central |47d553e0-79f2-4a46-9390-5a3c962740c2|0      |0     |Usado       |Outros      |Comercial  |1   |{260, 107, Venda, 10000}  |\n",
            "|0    |null      |14       |0        |null              |Centro         |20051040    |Rio de Janeiro |Rio de Janeiro |-22.902536       |-43.18434         |BR           |Avenida Passos            |Zona Central |b6ffbae1-17f6-4870-9950-e998ac1c8d6a|0      |null  |Usado       |Outros      |Comercial  |0   |{260, 107, Venda, 10000}  |\n",
            "|0    |1026      |1026     |0        |null              |Maria da Graça |20785360    |Rio de Janeiro |Rio de Janeiro |-22.885516       |-43.269083        |BR           |Rua Luís de Brito         |Zona Norte   |1fb030a5-9e3e-4a1d-93cd-cd2d8a215e11|0      |null  |Usado       |Outros      |Comercial  |0   |{null, 1613, Venda, 10000}|\n",
            "|0    |120       |120      |0        |Portão eletrônico |Campo Grande   |23095071    |Rio de Janeiro |Rio de Janeiro |-22.885028       |-43.561668        |BR           |Estrada Guandu do Sape    |Zona Oeste   |ac6cb348-69d6-45af-9589-dc34099370d8|0      |null  |Usado       |Outros      |Residencial|null|{80, null, Venda, 10000}  |\n",
            "|0    |120       |120      |0        |Condomínio fechado|Campo Grande   |23095071    |Rio de Janeiro |Rio de Janeiro |-22.885028       |-43.561668        |BR           |Estrada Guandu do Sape    |Zona Oeste   |ac6cb348-69d6-45af-9589-dc34099370d8|0      |null  |Usado       |Outros      |Residencial|null|{80, null, Venda, 10000}  |\n",
            "|0    |3         |3        |0        |null              |São Cristóvão  |20931670    |Rio de Janeiro |Rio de Janeiro |-22.885912       |-43.219296        |BR           |Rua Monsenhor Manuel Gomes|Zona Norte   |e032b908-ef42-4d4a-8125-eba4792bacbe|0      |null  |Usado       |Outros      |Residencial|null|{0, 0, Venda, 5000}       |\n",
            "|0    |20        |15       |1        |null              |Centro         |20231047    |Rio de Janeiro |Rio de Janeiro |-22.913152       |-43.184043        |BR           |Rua dos Inválidos         |Zona Central |df9cf0b8-b972-4334-88c9-87ef528806df|0      |null  |Usado       |Outros      |Comercial  |1   |{223, 87, Venda, 18500}   |\n",
            "|3    |43        |43       |1        |Academia          |Paciência      |23585430    |Rio de Janeiro |Rio de Janeiro |-22.919851       |-43.634034        |BR           |Estrada de Santa Eugênia  |Zona Oeste   |d2e3a3aa-09b5-45a0-9dcd-918847cd3ca3|2      |null  |Usado       |Apartamento |Residencial|1   |{245, null, Venda, 15000} |\n",
            "|3    |43        |43       |1        |Churrasqueira     |Paciência      |23585430    |Rio de Janeiro |Rio de Janeiro |-22.919851       |-43.634034        |BR           |Estrada de Santa Eugênia  |Zona Oeste   |d2e3a3aa-09b5-45a0-9dcd-918847cd3ca3|2      |null  |Usado       |Apartamento |Residencial|1   |{245, null, Venda, 15000} |\n",
            "|3    |43        |43       |1        |Playground        |Paciência      |23585430    |Rio de Janeiro |Rio de Janeiro |-22.919851       |-43.634034        |BR           |Estrada de Santa Eugênia  |Zona Oeste   |d2e3a3aa-09b5-45a0-9dcd-918847cd3ca3|2      |null  |Usado       |Apartamento |Residencial|1   |{245, null, Venda, 15000} |\n",
            "+-----+----------+---------+---------+------------------+---------------+------------+---------------+---------------+-----------------+------------------+-------------+--------------------------+-------------+------------------------------------+-------+------+------------+------------+-----------+----+--------------------------+\n",
            "only showing top 10 rows\n",
            "\n",
            "Reading Nested JSON File ... \n",
            "Outside isinstance loop: andar\n",
            "Outside isinstance loop: area_total\n",
            "Outside isinstance loop: area_util\n",
            "Outside isinstance loop: banheiros\n",
            "Outside isinstance loop: caracteristicas\n",
            "Outside isinstance loop: endereco_bairro\n",
            "Outside isinstance loop: endereco_cep\n",
            "Outside isinstance loop: endereco_cidade\n",
            "Outside isinstance loop: endereco_estado\n",
            "Outside isinstance loop: endereco_latitude\n",
            "Outside isinstance loop: endereco_longitude\n",
            "Outside isinstance loop: endereco_pais\n",
            "Outside isinstance loop: endereco_rua\n",
            "Outside isinstance loop: endereco_zona\n",
            "Outside isinstance loop: id\n",
            "Outside isinstance loop: quartos\n",
            "Outside isinstance loop: suites\n",
            "Outside isinstance loop: tipo_anuncio\n",
            "Outside isinstance loop: tipo_unidade\n",
            "Outside isinstance loop: tipo_uso\n",
            "Outside isinstance loop: vaga\n",
            "Outside isinstance loop: valores\n",
            "Inside isinstance loop of StructType: valores\n",
            "+-----+----------+---------+---------+------------------+---------------+------------+---------------+---------------+-----------------+------------------+-------------+--------------------------+-------------+------------------------------------+-------+------+------------+------------+-----------+----+------------------+------------+------------+-------------+\n",
            "|andar|area_total|area_util|banheiros|caracteristicas   |endereco_bairro|endereco_cep|endereco_cidade|endereco_estado|endereco_latitude|endereco_longitude|endereco_pais|endereco_rua              |endereco_zona|id                                  |quartos|suites|tipo_anuncio|tipo_unidade|tipo_uso   |vaga|valores_condominio|valores_iptu|valores_tipo|valores_valor|\n",
            "+-----+----------+---------+---------+------------------+---------------+------------+---------------+---------------+-----------------+------------------+-------------+--------------------------+-------------+------------------------------------+-------+------+------------+------------+-----------+----+------------------+------------+------------+-------------+\n",
            "|0    |null      |16       |0        |null              |Centro         |20061003    |Rio de Janeiro |Rio de Janeiro |-22.906082       |-43.18671         |BR           |Rua Buenos Aires          |Zona Central |47d553e0-79f2-4a46-9390-5a3c962740c2|0      |0     |Usado       |Outros      |Comercial  |1   |260               |107         |Venda       |10000        |\n",
            "|0    |null      |14       |0        |null              |Centro         |20051040    |Rio de Janeiro |Rio de Janeiro |-22.902536       |-43.18434         |BR           |Avenida Passos            |Zona Central |b6ffbae1-17f6-4870-9950-e998ac1c8d6a|0      |null  |Usado       |Outros      |Comercial  |0   |260               |107         |Venda       |10000        |\n",
            "|0    |1026      |1026     |0        |null              |Maria da Graça |20785360    |Rio de Janeiro |Rio de Janeiro |-22.885516       |-43.269083        |BR           |Rua Luís de Brito         |Zona Norte   |1fb030a5-9e3e-4a1d-93cd-cd2d8a215e11|0      |null  |Usado       |Outros      |Comercial  |0   |null              |1613        |Venda       |10000        |\n",
            "|0    |120       |120      |0        |Portão eletrônico |Campo Grande   |23095071    |Rio de Janeiro |Rio de Janeiro |-22.885028       |-43.561668        |BR           |Estrada Guandu do Sape    |Zona Oeste   |ac6cb348-69d6-45af-9589-dc34099370d8|0      |null  |Usado       |Outros      |Residencial|null|80                |null        |Venda       |10000        |\n",
            "|0    |120       |120      |0        |Condomínio fechado|Campo Grande   |23095071    |Rio de Janeiro |Rio de Janeiro |-22.885028       |-43.561668        |BR           |Estrada Guandu do Sape    |Zona Oeste   |ac6cb348-69d6-45af-9589-dc34099370d8|0      |null  |Usado       |Outros      |Residencial|null|80                |null        |Venda       |10000        |\n",
            "|0    |3         |3        |0        |null              |São Cristóvão  |20931670    |Rio de Janeiro |Rio de Janeiro |-22.885912       |-43.219296        |BR           |Rua Monsenhor Manuel Gomes|Zona Norte   |e032b908-ef42-4d4a-8125-eba4792bacbe|0      |null  |Usado       |Outros      |Residencial|null|0                 |0           |Venda       |5000         |\n",
            "|0    |20        |15       |1        |null              |Centro         |20231047    |Rio de Janeiro |Rio de Janeiro |-22.913152       |-43.184043        |BR           |Rua dos Inválidos         |Zona Central |df9cf0b8-b972-4334-88c9-87ef528806df|0      |null  |Usado       |Outros      |Comercial  |1   |223               |87          |Venda       |18500        |\n",
            "|3    |43        |43       |1        |Academia          |Paciência      |23585430    |Rio de Janeiro |Rio de Janeiro |-22.919851       |-43.634034        |BR           |Estrada de Santa Eugênia  |Zona Oeste   |d2e3a3aa-09b5-45a0-9dcd-918847cd3ca3|2      |null  |Usado       |Apartamento |Residencial|1   |245               |null        |Venda       |15000        |\n",
            "|3    |43        |43       |1        |Churrasqueira     |Paciência      |23585430    |Rio de Janeiro |Rio de Janeiro |-22.919851       |-43.634034        |BR           |Estrada de Santa Eugênia  |Zona Oeste   |d2e3a3aa-09b5-45a0-9dcd-918847cd3ca3|2      |null  |Usado       |Apartamento |Residencial|1   |245               |null        |Venda       |15000        |\n",
            "|3    |43        |43       |1        |Playground        |Paciência      |23585430    |Rio de Janeiro |Rio de Janeiro |-22.919851       |-43.634034        |BR           |Estrada de Santa Eugênia  |Zona Oeste   |d2e3a3aa-09b5-45a0-9dcd-918847cd3ca3|2      |null  |Usado       |Apartamento |Residencial|1   |245               |null        |Venda       |15000        |\n",
            "+-----+----------+---------+---------+------------------+---------------+------------+---------------+---------------+-----------------+------------------+-------------+--------------------------+-------------+------------------------------------+-------+------+------------+------------+-----------+----+------------------+------------+------------+-------------+\n",
            "only showing top 10 rows\n",
            "\n"
          ]
        }
      ]
    },
    {
      "cell_type": "code",
      "source": [
        "anuncio.printSchema()"
      ],
      "metadata": {
        "colab": {
          "base_uri": "https://localhost:8080/"
        },
        "id": "0P13Wg90LjGW",
        "outputId": "4166be9e-71c1-4149-8892-b03d3d9d2840"
      },
      "execution_count": null,
      "outputs": [
        {
          "output_type": "stream",
          "name": "stdout",
          "text": [
            "root\n",
            " |-- andar: long (nullable = true)\n",
            " |-- area_total: string (nullable = true)\n",
            " |-- area_util: string (nullable = true)\n",
            " |-- banheiros: long (nullable = true)\n",
            " |-- caracteristicas: string (nullable = true)\n",
            " |-- endereco_bairro: string (nullable = true)\n",
            " |-- endereco_cep: string (nullable = true)\n",
            " |-- endereco_cidade: string (nullable = true)\n",
            " |-- endereco_estado: string (nullable = true)\n",
            " |-- endereco_latitude: double (nullable = true)\n",
            " |-- endereco_longitude: double (nullable = true)\n",
            " |-- endereco_pais: string (nullable = true)\n",
            " |-- endereco_rua: string (nullable = true)\n",
            " |-- endereco_zona: string (nullable = true)\n",
            " |-- id: string (nullable = true)\n",
            " |-- quartos: long (nullable = true)\n",
            " |-- suites: long (nullable = true)\n",
            " |-- tipo_anuncio: string (nullable = true)\n",
            " |-- tipo_unidade: string (nullable = true)\n",
            " |-- tipo_uso: string (nullable = true)\n",
            " |-- vaga: long (nullable = true)\n",
            " |-- valores_condominio: string (nullable = true)\n",
            " |-- valores_iptu: string (nullable = true)\n",
            " |-- valores_tipo: string (nullable = true)\n",
            " |-- valores_valor: string (nullable = true)\n",
            "\n"
          ]
        }
      ]
    },
    {
      "cell_type": "code",
      "source": [
        "anuncio.show()"
      ],
      "metadata": {
        "colab": {
          "base_uri": "https://localhost:8080/"
        },
        "id": "iKgKUrJKNjPm",
        "outputId": "3a10dd12-b618-4d1f-b1b8-b31ef3daaf2a"
      },
      "execution_count": null,
      "outputs": [
        {
          "output_type": "stream",
          "name": "stdout",
          "text": [
            "+-----+----------+---------+---------+------------------+---------------+------------+---------------+---------------+-----------------+------------------+-------------+--------------------+-------------+--------------------+-------+------+------------+------------+-----------+----+------------------+------------+------------+-------------+\n",
            "|andar|area_total|area_util|banheiros|   caracteristicas|endereco_bairro|endereco_cep|endereco_cidade|endereco_estado|endereco_latitude|endereco_longitude|endereco_pais|        endereco_rua|endereco_zona|                  id|quartos|suites|tipo_anuncio|tipo_unidade|   tipo_uso|vaga|valores_condominio|valores_iptu|valores_tipo|valores_valor|\n",
            "+-----+----------+---------+---------+------------------+---------------+------------+---------------+---------------+-----------------+------------------+-------------+--------------------+-------------+--------------------+-------+------+------------+------------+-----------+----+------------------+------------+------------+-------------+\n",
            "|    3|        43|       43|        1|     Churrasqueira|         Cosmos|    23066271| Rio de Janeiro| Rio de Janeiro|       -22.888194|        -43.629602|           BR|Estrada da Paciência|   Zona Oeste|a2e6d7a5-0ff0-484...|      2|     0|       Usado| Apartamento|Residencial|   0|               285|        null|       Venda|        20000|\n",
            "|    3|        43|       43|        1|           Piscina|         Cosmos|    23066271| Rio de Janeiro| Rio de Janeiro|       -22.888194|        -43.629602|           BR|Estrada da Paciência|   Zona Oeste|a2e6d7a5-0ff0-484...|      2|     0|       Usado| Apartamento|Residencial|   0|               285|        null|       Venda|        20000|\n",
            "|    3|        43|       43|        1|        Playground|         Cosmos|    23066271| Rio de Janeiro| Rio de Janeiro|       -22.888194|        -43.629602|           BR|Estrada da Paciência|   Zona Oeste|a2e6d7a5-0ff0-484...|      2|     0|       Usado| Apartamento|Residencial|   0|               285|        null|       Venda|        20000|\n",
            "|    3|        43|       43|        1|   Salão de festas|         Cosmos|    23066271| Rio de Janeiro| Rio de Janeiro|       -22.888194|        -43.629602|           BR|Estrada da Paciência|   Zona Oeste|a2e6d7a5-0ff0-484...|      2|     0|       Usado| Apartamento|Residencial|   0|               285|        null|       Venda|        20000|\n",
            "|    3|        43|       43|        1|Condomínio fechado|         Cosmos|    23066271| Rio de Janeiro| Rio de Janeiro|       -22.888194|        -43.629602|           BR|Estrada da Paciência|   Zona Oeste|a2e6d7a5-0ff0-484...|      2|     0|       Usado| Apartamento|Residencial|   0|               285|        null|       Venda|        20000|\n",
            "|    3|        43|       43|        1|      Portaria 24h|         Cosmos|    23066271| Rio de Janeiro| Rio de Janeiro|       -22.888194|        -43.629602|           BR|Estrada da Paciência|   Zona Oeste|a2e6d7a5-0ff0-484...|      2|     0|       Usado| Apartamento|Residencial|   0|               285|        null|       Venda|        20000|\n",
            "|    3|        43|       43|        1| Portão eletrônico|         Cosmos|    23066271| Rio de Janeiro| Rio de Janeiro|       -22.888194|        -43.629602|           BR|Estrada da Paciência|   Zona Oeste|a2e6d7a5-0ff0-484...|      2|     0|       Usado| Apartamento|Residencial|   0|               285|        null|       Venda|        20000|\n",
            "|    3|        43|       43|        1|Animais permitidos|         Cosmos|    23066271| Rio de Janeiro| Rio de Janeiro|       -22.888194|        -43.629602|           BR|Estrada da Paciência|   Zona Oeste|a2e6d7a5-0ff0-484...|      2|     0|       Usado| Apartamento|Residencial|   0|               285|        null|       Venda|        20000|\n",
            "|    3|        43|       43|        1|     Churrasqueira|      Guaratiba|    23036060| Rio de Janeiro| Rio de Janeiro|       -22.948291|        -43.582205|           BR|Estrada Cabuçu de...|   Zona Oeste|2e6e5dfb-206c-496...|      2|     0|       Usado| Apartamento|Residencial|   1|               245|        null|       Venda|        15000|\n",
            "|    3|        43|       43|        1|        Playground|      Guaratiba|    23036060| Rio de Janeiro| Rio de Janeiro|       -22.948291|        -43.582205|           BR|Estrada Cabuçu de...|   Zona Oeste|2e6e5dfb-206c-496...|      2|     0|       Usado| Apartamento|Residencial|   1|               245|        null|       Venda|        15000|\n",
            "|    3|        43|       43|        1|   Salão de festas|      Guaratiba|    23036060| Rio de Janeiro| Rio de Janeiro|       -22.948291|        -43.582205|           BR|Estrada Cabuçu de...|   Zona Oeste|2e6e5dfb-206c-496...|      2|     0|       Usado| Apartamento|Residencial|   1|               245|        null|       Venda|        15000|\n",
            "|    3|        43|       43|        1|Condomínio fechado|      Guaratiba|    23036060| Rio de Janeiro| Rio de Janeiro|       -22.948291|        -43.582205|           BR|Estrada Cabuçu de...|   Zona Oeste|2e6e5dfb-206c-496...|      2|     0|       Usado| Apartamento|Residencial|   1|               245|        null|       Venda|        15000|\n",
            "|    3|        43|       43|        1| Portão eletrônico|      Guaratiba|    23036060| Rio de Janeiro| Rio de Janeiro|       -22.948291|        -43.582205|           BR|Estrada Cabuçu de...|   Zona Oeste|2e6e5dfb-206c-496...|      2|     0|       Usado| Apartamento|Residencial|   1|               245|        null|       Venda|        15000|\n",
            "|    3|        43|       43|        1|Animais permitidos|      Guaratiba|    23036060| Rio de Janeiro| Rio de Janeiro|       -22.948291|        -43.582205|           BR|Estrada Cabuçu de...|   Zona Oeste|2e6e5dfb-206c-496...|      2|     0|       Usado| Apartamento|Residencial|   1|               245|        null|       Venda|        15000|\n",
            "|    3|        43|       43|        1|     Churrasqueira|      Paciência|    23585430| Rio de Janeiro| Rio de Janeiro|       -22.919851|        -43.634034|           BR|Estrada de Santa ...|   Zona Oeste|99f8d0f9-95a4-461...|      2|     0|       Usado| Apartamento|Residencial|   1|               245|        null|       Venda|        15000|\n",
            "|    3|        43|       43|        1|        Playground|      Paciência|    23585430| Rio de Janeiro| Rio de Janeiro|       -22.919851|        -43.634034|           BR|Estrada de Santa ...|   Zona Oeste|99f8d0f9-95a4-461...|      2|     0|       Usado| Apartamento|Residencial|   1|               245|        null|       Venda|        15000|\n",
            "|    3|        43|       43|        1|   Salão de festas|      Paciência|    23585430| Rio de Janeiro| Rio de Janeiro|       -22.919851|        -43.634034|           BR|Estrada de Santa ...|   Zona Oeste|99f8d0f9-95a4-461...|      2|     0|       Usado| Apartamento|Residencial|   1|               245|        null|       Venda|        15000|\n",
            "|    3|        43|       43|        1|Condomínio fechado|      Paciência|    23585430| Rio de Janeiro| Rio de Janeiro|       -22.919851|        -43.634034|           BR|Estrada de Santa ...|   Zona Oeste|99f8d0f9-95a4-461...|      2|     0|       Usado| Apartamento|Residencial|   1|               245|        null|       Venda|        15000|\n",
            "|    3|        43|       43|        1| Portão eletrônico|      Paciência|    23585430| Rio de Janeiro| Rio de Janeiro|       -22.919851|        -43.634034|           BR|Estrada de Santa ...|   Zona Oeste|99f8d0f9-95a4-461...|      2|     0|       Usado| Apartamento|Residencial|   1|               245|        null|       Venda|        15000|\n",
            "|    3|        43|       43|        1|      Portaria 24h|      Paciência|    23585430| Rio de Janeiro| Rio de Janeiro|       -22.919851|        -43.634034|           BR|Estrada de Santa ...|   Zona Oeste|99f8d0f9-95a4-461...|      2|     0|       Usado| Apartamento|Residencial|   1|               245|        null|       Venda|        15000|\n",
            "+-----+----------+---------+---------+------------------+---------------+------------+---------------+---------------+-----------------+------------------+-------------+--------------------+-------------+--------------------+-------+------+------------+------------+-----------+----+------------------+------------+------------+-------------+\n",
            "only showing top 20 rows\n",
            "\n"
          ]
        }
      ]
    },
    {
      "cell_type": "markdown",
      "source": [
        "Mudando o tipo das colunas"
      ],
      "metadata": {
        "id": "Ftk4ia7hwVE7"
      }
    },
    {
      "cell_type": "code",
      "source": [
        "import pyspark.sql.functions as F\n",
        "from pyspark.sql.types import StringType,IntegerType, FloatType\n",
        "\n",
        "cols_to_cast = [ \"andar\", \"area_total\" , 'area_util', 'banheiros', 'endereco_cep', 'quartos', 'suites', 'vaga', 'valores_condominio', 'valores_iptu',  'valores_valor']\n",
        "anuncio = anuncio.select([F.col(c).cast('int') if c in cols_to_cast else c for c in anuncio.columns])\n",
        "\n",
        "anuncio.printSchema()"
      ],
      "metadata": {
        "colab": {
          "base_uri": "https://localhost:8080/"
        },
        "id": "Wjf1PzleWDLz",
        "outputId": "42145a4c-75a8-453d-bae5-ca619fe44f95"
      },
      "execution_count": null,
      "outputs": [
        {
          "output_type": "stream",
          "name": "stdout",
          "text": [
            "root\n",
            " |-- andar: integer (nullable = true)\n",
            " |-- area_total: integer (nullable = true)\n",
            " |-- area_util: integer (nullable = true)\n",
            " |-- banheiros: integer (nullable = true)\n",
            " |-- caracteristicas: string (nullable = true)\n",
            " |-- endereco_bairro: string (nullable = true)\n",
            " |-- endereco_cep: integer (nullable = true)\n",
            " |-- endereco_cidade: string (nullable = true)\n",
            " |-- endereco_estado: string (nullable = true)\n",
            " |-- endereco_latitude: double (nullable = true)\n",
            " |-- endereco_longitude: double (nullable = true)\n",
            " |-- endereco_pais: string (nullable = true)\n",
            " |-- endereco_rua: string (nullable = true)\n",
            " |-- endereco_zona: string (nullable = true)\n",
            " |-- id: string (nullable = true)\n",
            " |-- quartos: integer (nullable = true)\n",
            " |-- suites: integer (nullable = true)\n",
            " |-- tipo_anuncio: string (nullable = true)\n",
            " |-- tipo_unidade: string (nullable = true)\n",
            " |-- tipo_uso: string (nullable = true)\n",
            " |-- vaga: integer (nullable = true)\n",
            " |-- valores_condominio: integer (nullable = true)\n",
            " |-- valores_iptu: integer (nullable = true)\n",
            " |-- valores_tipo: string (nullable = true)\n",
            " |-- valores_valor: integer (nullable = true)\n",
            "\n"
          ]
        }
      ]
    },
    {
      "cell_type": "markdown",
      "source": [
        "# Filtros"
      ],
      "metadata": {
        "id": "6_DSNSqpylLF"
      }
    },
    {
      "cell_type": "code",
      "source": [
        "# Mostrar apenas bairro e zona \n",
        "endereço = anuncio[['endereco_bairro', 'endereco_zona' ]].distinct()\n",
        "endereço.show()"
      ],
      "metadata": {
        "colab": {
          "base_uri": "https://localhost:8080/"
        },
        "id": "yyCuYCQq0Omj",
        "outputId": "219e872c-bf07-4a8b-be00-90bce8c211bd"
      },
      "execution_count": null,
      "outputs": [
        {
          "output_type": "stream",
          "name": "stdout",
          "text": [
            "+--------------------+-------------+\n",
            "|     endereco_bairro|endereco_zona|\n",
            "+--------------------+-------------+\n",
            "|           Madureira|   Zona Norte|\n",
            "|          Cavalcanti|   Zona Norte|\n",
            "|              Catete|   Zona Oeste|\n",
            "|Recreio dos Bande...|   Zona Norte|\n",
            "|            Flamengo|             |\n",
            "|     Parada de Lucas|     Zona Sul|\n",
            "|   Quintino Bocaiúva|   Zona Norte|\n",
            "|        Campo Grande|   Zona Oeste|\n",
            "|   Engenho da Rainha|   Zona Norte|\n",
            "|              Gamboa|     Zona Sul|\n",
            "|             Benfica|   Zona Norte|\n",
            "|        Santa Teresa| Zona Central|\n",
            "|    Parque da Matriz|             |\n",
            "|               Bangu|   Zona Oeste|\n",
            "|         São Conrado|   Zona Oeste|\n",
            "|               Lagoa|             |\n",
            "|              Catete|     Zona Sul|\n",
            "|            Curicica|     Zona Sul|\n",
            "|         Jacarepaguá|   Zona Oeste|\n",
            "|             Deodoro|   Zona Oeste|\n",
            "+--------------------+-------------+\n",
            "only showing top 20 rows\n",
            "\n"
          ]
        }
      ]
    },
    {
      "cell_type": "code",
      "source": [
        "venda = anuncio.filter(anuncio.valores_tipo == 'Venda')\n",
        "venda.show()"
      ],
      "metadata": {
        "colab": {
          "base_uri": "https://localhost:8080/"
        },
        "id": "jHwxf4FbynJ0",
        "outputId": "e5b910ad-af01-44be-bcda-4c2f71c3cd44"
      },
      "execution_count": null,
      "outputs": [
        {
          "output_type": "stream",
          "name": "stdout",
          "text": [
            "+-----+----------+---------+---------+------------------+---------------+------------+---------------+---------------+-----------------+------------------+-------------+--------------------+-------------+--------------------+-------+------+------------+------------+-----------+----+------------------+------------+------------+-------------+\n",
            "|andar|area_total|area_util|banheiros|   caracteristicas|endereco_bairro|endereco_cep|endereco_cidade|endereco_estado|endereco_latitude|endereco_longitude|endereco_pais|        endereco_rua|endereco_zona|                  id|quartos|suites|tipo_anuncio|tipo_unidade|   tipo_uso|vaga|valores_condominio|valores_iptu|valores_tipo|valores_valor|\n",
            "+-----+----------+---------+---------+------------------+---------------+------------+---------------+---------------+-----------------+------------------+-------------+--------------------+-------------+--------------------+-------+------+------------+------------+-----------+----+------------------+------------+------------+-------------+\n",
            "|    0|      null|       16|        0|              null|         Centro|    20061003| Rio de Janeiro| Rio de Janeiro|       -22.906082|         -43.18671|           BR|    Rua Buenos Aires| Zona Central|47d553e0-79f2-4a4...|      0|     0|       Usado|      Outros|  Comercial|   1|               260|         107|       Venda|        10000|\n",
            "|    0|      null|       14|        0|              null|         Centro|    20051040| Rio de Janeiro| Rio de Janeiro|       -22.902536|         -43.18434|           BR|      Avenida Passos| Zona Central|b6ffbae1-17f6-487...|      0|  null|       Usado|      Outros|  Comercial|   0|               260|         107|       Venda|        10000|\n",
            "|    0|      1026|     1026|        0|              null| Maria da Graça|    20785360| Rio de Janeiro| Rio de Janeiro|       -22.885516|        -43.269083|           BR|   Rua Luís de Brito|   Zona Norte|1fb030a5-9e3e-4a1...|      0|  null|       Usado|      Outros|  Comercial|   0|              null|        1613|       Venda|        10000|\n",
            "|    0|       120|      120|        0| Portão eletrônico|   Campo Grande|    23095071| Rio de Janeiro| Rio de Janeiro|       -22.885028|        -43.561668|           BR|Estrada Guandu do...|   Zona Oeste|ac6cb348-69d6-45a...|      0|  null|       Usado|      Outros|Residencial|null|                80|        null|       Venda|        10000|\n",
            "|    0|       120|      120|        0|Condomínio fechado|   Campo Grande|    23095071| Rio de Janeiro| Rio de Janeiro|       -22.885028|        -43.561668|           BR|Estrada Guandu do...|   Zona Oeste|ac6cb348-69d6-45a...|      0|  null|       Usado|      Outros|Residencial|null|                80|        null|       Venda|        10000|\n",
            "|    0|         3|        3|        0|              null|  São Cristóvão|    20931670| Rio de Janeiro| Rio de Janeiro|       -22.885912|        -43.219296|           BR|Rua Monsenhor Man...|   Zona Norte|e032b908-ef42-4d4...|      0|  null|       Usado|      Outros|Residencial|null|                 0|           0|       Venda|         5000|\n",
            "|    0|        20|       15|        1|              null|         Centro|    20231047| Rio de Janeiro| Rio de Janeiro|       -22.913152|        -43.184043|           BR|   Rua dos Inválidos| Zona Central|df9cf0b8-b972-433...|      0|  null|       Usado|      Outros|  Comercial|   1|               223|          87|       Venda|        18500|\n",
            "|    3|        43|       43|        1|          Academia|      Paciência|    23585430| Rio de Janeiro| Rio de Janeiro|       -22.919851|        -43.634034|           BR|Estrada de Santa ...|   Zona Oeste|d2e3a3aa-09b5-45a...|      2|  null|       Usado| Apartamento|Residencial|   1|               245|        null|       Venda|        15000|\n",
            "|    3|        43|       43|        1|     Churrasqueira|      Paciência|    23585430| Rio de Janeiro| Rio de Janeiro|       -22.919851|        -43.634034|           BR|Estrada de Santa ...|   Zona Oeste|d2e3a3aa-09b5-45a...|      2|  null|       Usado| Apartamento|Residencial|   1|               245|        null|       Venda|        15000|\n",
            "|    3|        43|       43|        1|        Playground|      Paciência|    23585430| Rio de Janeiro| Rio de Janeiro|       -22.919851|        -43.634034|           BR|Estrada de Santa ...|   Zona Oeste|d2e3a3aa-09b5-45a...|      2|  null|       Usado| Apartamento|Residencial|   1|               245|        null|       Venda|        15000|\n",
            "|    3|        43|       43|        1|   Salão de festas|      Paciência|    23585430| Rio de Janeiro| Rio de Janeiro|       -22.919851|        -43.634034|           BR|Estrada de Santa ...|   Zona Oeste|d2e3a3aa-09b5-45a...|      2|  null|       Usado| Apartamento|Residencial|   1|               245|        null|       Venda|        15000|\n",
            "|    3|        43|       43|        1|Condomínio fechado|      Paciência|    23585430| Rio de Janeiro| Rio de Janeiro|       -22.919851|        -43.634034|           BR|Estrada de Santa ...|   Zona Oeste|d2e3a3aa-09b5-45a...|      2|  null|       Usado| Apartamento|Residencial|   1|               245|        null|       Venda|        15000|\n",
            "|    3|        43|       43|        1| Portão eletrônico|      Paciência|    23585430| Rio de Janeiro| Rio de Janeiro|       -22.919851|        -43.634034|           BR|Estrada de Santa ...|   Zona Oeste|d2e3a3aa-09b5-45a...|      2|  null|       Usado| Apartamento|Residencial|   1|               245|        null|       Venda|        15000|\n",
            "|    3|        43|       43|        1|      Portaria 24h|      Paciência|    23585430| Rio de Janeiro| Rio de Janeiro|       -22.919851|        -43.634034|           BR|Estrada de Santa ...|   Zona Oeste|d2e3a3aa-09b5-45a...|      2|  null|       Usado| Apartamento|Residencial|   1|               245|        null|       Venda|        15000|\n",
            "|    3|        43|       43|        1|Animais permitidos|      Paciência|    23585430| Rio de Janeiro| Rio de Janeiro|       -22.919851|        -43.634034|           BR|Estrada de Santa ...|   Zona Oeste|d2e3a3aa-09b5-45a...|      2|  null|       Usado| Apartamento|Residencial|   1|               245|        null|       Venda|        15000|\n",
            "|    2|        42|       42|        1|     Churrasqueira|      Paciência|    23585430| Rio de Janeiro| Rio de Janeiro|       -22.928108|        -43.635375|           BR|Estrada de Santa ...|   Zona Oeste|085bab2c-87ad-452...|      2|  null|       Usado| Apartamento|Residencial|   1|                 0|           0|       Venda|        15000|\n",
            "|    2|        42|       42|        1|        Playground|      Paciência|    23585430| Rio de Janeiro| Rio de Janeiro|       -22.928108|        -43.635375|           BR|Estrada de Santa ...|   Zona Oeste|085bab2c-87ad-452...|      2|  null|       Usado| Apartamento|Residencial|   1|                 0|           0|       Venda|        15000|\n",
            "|    2|        42|       42|        1|   Salão de festas|      Paciência|    23585430| Rio de Janeiro| Rio de Janeiro|       -22.928108|        -43.635375|           BR|Estrada de Santa ...|   Zona Oeste|085bab2c-87ad-452...|      2|  null|       Usado| Apartamento|Residencial|   1|                 0|           0|       Venda|        15000|\n",
            "|    2|        42|       42|        1|Condomínio fechado|      Paciência|    23585430| Rio de Janeiro| Rio de Janeiro|       -22.928108|        -43.635375|           BR|Estrada de Santa ...|   Zona Oeste|085bab2c-87ad-452...|      2|  null|       Usado| Apartamento|Residencial|   1|                 0|           0|       Venda|        15000|\n",
            "|    2|        42|       42|        1| Portão eletrônico|      Paciência|    23585430| Rio de Janeiro| Rio de Janeiro|       -22.928108|        -43.635375|           BR|Estrada de Santa ...|   Zona Oeste|085bab2c-87ad-452...|      2|  null|       Usado| Apartamento|Residencial|   1|                 0|           0|       Venda|        15000|\n",
            "+-----+----------+---------+---------+------------------+---------------+------------+---------------+---------------+-----------------+------------------+-------------+--------------------+-------------+--------------------+-------+------+------------+------------+-----------+----+------------------+------------+------------+-------------+\n",
            "only showing top 20 rows\n",
            "\n"
          ]
        }
      ]
    },
    {
      "cell_type": "code",
      "source": [
        "'''\n",
        "\n",
        "* tipo_uso: **Residencial**;\n",
        "* tipo_unidade: **Apartamento**;\n",
        "* tipo_anuncio: **Usado**.\n",
        "'''\n",
        "filtro = anuncio.filter( (anuncio.tipo_anuncio == 'Usado') & (anuncio.tipo_unidade == 'Apartamento' )&  ( anuncio.tipo_uso == 'Residencial' )).show()\n"
      ],
      "metadata": {
        "colab": {
          "base_uri": "https://localhost:8080/"
        },
        "id": "KzUQ0hlJ2tuQ",
        "outputId": "72861ac4-66ec-48e6-b991-76af4140c233"
      },
      "execution_count": null,
      "outputs": [
        {
          "output_type": "stream",
          "name": "stdout",
          "text": [
            "+-----+----------+---------+---------+------------------+---------------+------------+---------------+---------------+-----------------+------------------+-------------+--------------------+-------------+--------------------+-------+------+------------+------------+-----------+----+------------------+------------+------------+-------------+\n",
            "|andar|area_total|area_util|banheiros|   caracteristicas|endereco_bairro|endereco_cep|endereco_cidade|endereco_estado|endereco_latitude|endereco_longitude|endereco_pais|        endereco_rua|endereco_zona|                  id|quartos|suites|tipo_anuncio|tipo_unidade|   tipo_uso|vaga|valores_condominio|valores_iptu|valores_tipo|valores_valor|\n",
            "+-----+----------+---------+---------+------------------+---------------+------------+---------------+---------------+-----------------+------------------+-------------+--------------------+-------------+--------------------+-------+------+------------+------------+-----------+----+------------------+------------+------------+-------------+\n",
            "|    3|        43|       43|        1|          Academia|      Paciência|    23585430| Rio de Janeiro| Rio de Janeiro|       -22.919851|        -43.634034|           BR|Estrada de Santa ...|   Zona Oeste|d2e3a3aa-09b5-45a...|      2|  null|       Usado| Apartamento|Residencial|   1|               245|        null|       Venda|        15000|\n",
            "|    3|        43|       43|        1|     Churrasqueira|      Paciência|    23585430| Rio de Janeiro| Rio de Janeiro|       -22.919851|        -43.634034|           BR|Estrada de Santa ...|   Zona Oeste|d2e3a3aa-09b5-45a...|      2|  null|       Usado| Apartamento|Residencial|   1|               245|        null|       Venda|        15000|\n",
            "|    3|        43|       43|        1|        Playground|      Paciência|    23585430| Rio de Janeiro| Rio de Janeiro|       -22.919851|        -43.634034|           BR|Estrada de Santa ...|   Zona Oeste|d2e3a3aa-09b5-45a...|      2|  null|       Usado| Apartamento|Residencial|   1|               245|        null|       Venda|        15000|\n",
            "|    3|        43|       43|        1|   Salão de festas|      Paciência|    23585430| Rio de Janeiro| Rio de Janeiro|       -22.919851|        -43.634034|           BR|Estrada de Santa ...|   Zona Oeste|d2e3a3aa-09b5-45a...|      2|  null|       Usado| Apartamento|Residencial|   1|               245|        null|       Venda|        15000|\n",
            "|    3|        43|       43|        1|Condomínio fechado|      Paciência|    23585430| Rio de Janeiro| Rio de Janeiro|       -22.919851|        -43.634034|           BR|Estrada de Santa ...|   Zona Oeste|d2e3a3aa-09b5-45a...|      2|  null|       Usado| Apartamento|Residencial|   1|               245|        null|       Venda|        15000|\n",
            "|    3|        43|       43|        1| Portão eletrônico|      Paciência|    23585430| Rio de Janeiro| Rio de Janeiro|       -22.919851|        -43.634034|           BR|Estrada de Santa ...|   Zona Oeste|d2e3a3aa-09b5-45a...|      2|  null|       Usado| Apartamento|Residencial|   1|               245|        null|       Venda|        15000|\n",
            "|    3|        43|       43|        1|      Portaria 24h|      Paciência|    23585430| Rio de Janeiro| Rio de Janeiro|       -22.919851|        -43.634034|           BR|Estrada de Santa ...|   Zona Oeste|d2e3a3aa-09b5-45a...|      2|  null|       Usado| Apartamento|Residencial|   1|               245|        null|       Venda|        15000|\n",
            "|    3|        43|       43|        1|Animais permitidos|      Paciência|    23585430| Rio de Janeiro| Rio de Janeiro|       -22.919851|        -43.634034|           BR|Estrada de Santa ...|   Zona Oeste|d2e3a3aa-09b5-45a...|      2|  null|       Usado| Apartamento|Residencial|   1|               245|        null|       Venda|        15000|\n",
            "|    2|        42|       42|        1|     Churrasqueira|      Paciência|    23585430| Rio de Janeiro| Rio de Janeiro|       -22.928108|        -43.635375|           BR|Estrada de Santa ...|   Zona Oeste|085bab2c-87ad-452...|      2|  null|       Usado| Apartamento|Residencial|   1|                 0|           0|       Venda|        15000|\n",
            "|    2|        42|       42|        1|        Playground|      Paciência|    23585430| Rio de Janeiro| Rio de Janeiro|       -22.928108|        -43.635375|           BR|Estrada de Santa ...|   Zona Oeste|085bab2c-87ad-452...|      2|  null|       Usado| Apartamento|Residencial|   1|                 0|           0|       Venda|        15000|\n",
            "|    2|        42|       42|        1|   Salão de festas|      Paciência|    23585430| Rio de Janeiro| Rio de Janeiro|       -22.928108|        -43.635375|           BR|Estrada de Santa ...|   Zona Oeste|085bab2c-87ad-452...|      2|  null|       Usado| Apartamento|Residencial|   1|                 0|           0|       Venda|        15000|\n",
            "|    2|        42|       42|        1|Condomínio fechado|      Paciência|    23585430| Rio de Janeiro| Rio de Janeiro|       -22.928108|        -43.635375|           BR|Estrada de Santa ...|   Zona Oeste|085bab2c-87ad-452...|      2|  null|       Usado| Apartamento|Residencial|   1|                 0|           0|       Venda|        15000|\n",
            "|    2|        42|       42|        1| Portão eletrônico|      Paciência|    23585430| Rio de Janeiro| Rio de Janeiro|       -22.928108|        -43.635375|           BR|Estrada de Santa ...|   Zona Oeste|085bab2c-87ad-452...|      2|  null|       Usado| Apartamento|Residencial|   1|                 0|           0|       Venda|        15000|\n",
            "|    2|        42|       42|        1|      Portaria 24h|      Paciência|    23585430| Rio de Janeiro| Rio de Janeiro|       -22.928108|        -43.635375|           BR|Estrada de Santa ...|   Zona Oeste|085bab2c-87ad-452...|      2|  null|       Usado| Apartamento|Residencial|   1|                 0|           0|       Venda|        15000|\n",
            "|    2|        42|       42|        1|Animais permitidos|      Paciência|    23585430| Rio de Janeiro| Rio de Janeiro|       -22.928108|        -43.635375|           BR|Estrada de Santa ...|   Zona Oeste|085bab2c-87ad-452...|      2|  null|       Usado| Apartamento|Residencial|   1|                 0|           0|       Venda|        15000|\n",
            "|    1|        41|       41|        1|      Portaria 24h|      Guaratiba|    23036060| Rio de Janeiro| Rio de Janeiro|       -22.948756|        -43.582824|           BR|Estrada Cabuçu de...|   Zona Oeste|18d22cbe-1b86-476...|      2|  null|       Usado| Apartamento|Residencial|   1|                 0|           0|       Venda|        20000|\n",
            "|    1|        41|       41|        1|Condomínio fechado|      Guaratiba|    23036060| Rio de Janeiro| Rio de Janeiro|       -22.948756|        -43.582824|           BR|Estrada Cabuçu de...|   Zona Oeste|18d22cbe-1b86-476...|      2|  null|       Usado| Apartamento|Residencial|   1|                 0|           0|       Venda|        20000|\n",
            "|    1|        41|       41|        1|        Playground|      Guaratiba|    23036060| Rio de Janeiro| Rio de Janeiro|       -22.948756|        -43.582824|           BR|Estrada Cabuçu de...|   Zona Oeste|18d22cbe-1b86-476...|      2|  null|       Usado| Apartamento|Residencial|   1|                 0|           0|       Venda|        20000|\n",
            "|    1|        41|       41|        1|   Salão de festas|      Guaratiba|    23036060| Rio de Janeiro| Rio de Janeiro|       -22.948756|        -43.582824|           BR|Estrada Cabuçu de...|   Zona Oeste|18d22cbe-1b86-476...|      2|  null|       Usado| Apartamento|Residencial|   1|                 0|           0|       Venda|        20000|\n",
            "|    1|        41|       41|        1|     Churrasqueira|      Guaratiba|    23036060| Rio de Janeiro| Rio de Janeiro|       -22.948756|        -43.582824|           BR|Estrada Cabuçu de...|   Zona Oeste|18d22cbe-1b86-476...|      2|  null|       Usado| Apartamento|Residencial|   1|                 0|           0|       Venda|        20000|\n",
            "+-----+----------+---------+---------+------------------+---------------+------------+---------------+---------------+-----------------+------------------+-------------+--------------------+-------------+--------------------+-------+------+------------+------------+-----------+----+------------------+------------+------------+-------------+\n",
            "only showing top 20 rows\n",
            "\n"
          ]
        }
      ]
    },
    {
      "cell_type": "code",
      "source": [
        "anuncio.describe().show()"
      ],
      "metadata": {
        "colab": {
          "base_uri": "https://localhost:8080/"
        },
        "id": "JuQPWC925eLn",
        "outputId": "2e2df898-7508-4083-c975-ee3ed16c8d82"
      },
      "execution_count": null,
      "outputs": [
        {
          "output_type": "stream",
          "name": "stdout",
          "text": [
            "+-------+------------------+------------------+-----------------+------------------+---------------+--------------------+------------------+------------------+-----------------+-------------------+------------------+-------------+------------+-------------+--------------------+------------------+------------------+------------+------------+-----------+------------------+------------------+-----------------+------------+------------------+\n",
            "|summary|             andar|        area_total|        area_util|         banheiros|caracteristicas|     endereco_bairro|      endereco_cep|   endereco_cidade|  endereco_estado|  endereco_latitude|endereco_longitude|endereco_pais|endereco_rua|endereco_zona|                  id|           quartos|            suites|tipo_anuncio|tipo_unidade|   tipo_uso|              vaga|valores_condominio|     valores_iptu|valores_tipo|     valores_valor|\n",
            "+-------+------------------+------------------+-----------------+------------------+---------------+--------------------+------------------+------------------+-----------------+-------------------+------------------+-------------+------------+-------------+--------------------+------------------+------------------+------------+------------+-----------+------------------+------------------+-----------------+------------+------------------+\n",
            "|  count|            401510|            333445|           401491|            401269|         375278|              401510|            401510|            401510|           401510|             401508|            401508|       401510|      401510|       401510|              401510|            400500|            373215|      401510|      401510|     401510|            390271|            389697|           377376|      401510|            401068|\n",
            "|   mean|2.9035017807775647| 1666.558208999985|307.1336244149931| 2.679925436552537|           null|                null|2.22977486160793E7|              null|             null|-22.964592126756706|-43.33667694053981|         null|        null|         null|                null|  2.72205493133583| 1.487893037525287|        null|        null|       null|1.6496742007476857|  5643.70907140676|6481.957003095056|        null|1411417.8565006433|\n",
            "| stddev|17.345637321467795|124007.81845085265| 50714.0843765357|1.6076626333098696|           null|                null| 852294.9297851808|              null|             null|0.05790805877506737|0.1113872571786972|         null|        null|         null|                null|1.0708953347542034|1.2387538702052097|        null|        null|       null|1.6077240374229087|128201.40628240231|277252.9145184943|        null| 1690099.975441707|\n",
            "|    min|                 0|                 0|                0|                 0|       Academia|            Abolição|          20010000|      Cachoeirinha|Rio Grande do Sul|          -43.51913|        -51.075631|           BR|   Alameda A|             |00002dd9-cc74-480...|                 0|                 0|  Lançamento| Apartamento|  Comercial|                 0|                 0|                0|     Aluguel|               100|\n",
            "|    max|              1234|          30000000|         30000000|                53|Salão de festas|Área Rural de Rio...|          94950565|São João de Meriti|   Rio de Janeiro|         -22.699667|        -22.928173|           BR|  Área Rural|     Zona Sul|fffe97aa-814b-4eb...|                49|                49|       Usado|      Outros|Residencial|               100|          12850000|         75122000|       Venda|          13900000|\n",
            "+-------+------------------+------------------+-----------------+------------------+---------------+--------------------+------------------+------------------+-----------------+-------------------+------------------+-------------+------------+-------------+--------------------+------------------+------------------+------------+------------+-----------+------------------+------------------+-----------------+------------+------------------+\n",
            "\n"
          ]
        }
      ]
    },
    {
      "cell_type": "markdown",
      "source": [
        "# Salvando em Parquet"
      ],
      "metadata": {
        "id": "m4t2DvLK4I2v"
      }
    },
    {
      "cell_type": "code",
      "source": [
        "anuncio.write.parquet(\"anuncio.parquet\")"
      ],
      "metadata": {
        "id": "TC1BhjTy4LfP"
      },
      "execution_count": null,
      "outputs": []
    },
    {
      "cell_type": "markdown",
      "source": [
        "Espaço utilizado 5 KB"
      ],
      "metadata": {
        "id": "3kREkgqoPzZT"
      }
    },
    {
      "cell_type": "markdown",
      "source": [
        "# Salvando em csv"
      ],
      "metadata": {
        "id": "q_e980_D6vuP"
      }
    },
    {
      "cell_type": "code",
      "source": [
        "anuncio.write.csv('anuncio_csv.csv')"
      ],
      "metadata": {
        "id": "LNrswGbn62yu"
      },
      "execution_count": null,
      "outputs": []
    },
    {
      "cell_type": "markdown",
      "source": [
        "Espaço utilizado 66 KB"
      ],
      "metadata": {
        "id": "i7-tG45uP72L"
      }
    }
  ]
}