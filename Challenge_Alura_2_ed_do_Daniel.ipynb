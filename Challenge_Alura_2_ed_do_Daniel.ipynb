{
  "nbformat": 4,
  "nbformat_minor": 0,
  "metadata": {
    "colab": {
      "provenance": [],
      "authorship_tag": "ABX9TyNEKsOHVv2HWZ1QqfU1I49d",
      "include_colab_link": true
    },
    "kernelspec": {
      "name": "python3",
      "display_name": "Python 3"
    },
    "language_info": {
      "name": "python"
    }
  },
  "cells": [
    {
      "cell_type": "markdown",
      "metadata": {
        "id": "view-in-github",
        "colab_type": "text"
      },
      "source": [
        "<a href=\"https://colab.research.google.com/github/danielsreis/Challenge-Ciencia-de-dados-Aluara-2ed-do-Daniel/blob/main/Challenge_Alura_2_ed_do_Daniel.ipynb\" target=\"_parent\"><img src=\"https://colab.research.google.com/assets/colab-badge.svg\" alt=\"Open In Colab\"/></a>"
      ]
    },
    {
      "cell_type": "markdown",
      "source": [
        "# Instalando pacotes opicionais"
      ],
      "metadata": {
        "id": "o45mr2Qy5O0M"
      }
    },
    {
      "cell_type": "code",
      "execution_count": 1,
      "metadata": {
        "colab": {
          "base_uri": "https://localhost:8080/"
        },
        "id": "bIef7Xpr46Xz",
        "outputId": "88711c7a-7305-430a-89d4-6df91a6c794c"
      },
      "outputs": [
        {
          "output_type": "stream",
          "name": "stdout",
          "text": [
            " \n",
            "Instalação concluída._____________________________________________________________________________________\n",
            " \n"
          ]
        }
      ],
      "source": [
        "!apt-get update -qq\n",
        "!apt-get install openjdk-8-jdk-headless -qq > /dev/null\n",
        "!wget -q https://archive.apache.org/dist/spark/spark-3.1.2/spark-3.1.2-bin-hadoop2.7.tgz\n",
        "!tar xf spark-3.1.2-bin-hadoop2.7.tgz\n",
        "!pip install -q findspark\n",
        "\n",
        "print(' ')\n",
        "print('Instalação concluída._____________________________________________________________________________________')\n",
        "print(' ')"
      ]
    },
    {
      "cell_type": "code",
      "source": [
        "import os\n",
        "os.environ[\"JAVA_HOME\"] = \"/usr/lib/jvm/java-8-openjdk-amd64\"\n",
        "os.environ[\"SPARK_HOME\"] = \"/content/spark-3.1.2-bin-hadoop2.7\""
      ],
      "metadata": {
        "id": "qH3oUT7Jpl2I"
      },
      "execution_count": 2,
      "outputs": []
    },
    {
      "cell_type": "code",
      "source": [
        "import findspark\n",
        "findspark.init()"
      ],
      "metadata": {
        "id": "UJJKeMNgppLi"
      },
      "execution_count": 3,
      "outputs": []
    },
    {
      "cell_type": "markdown",
      "source": [
        "# Instalando Pyspark - metodo simples\n"
      ],
      "metadata": {
        "id": "LQEZO275vUQY"
      }
    },
    {
      "cell_type": "code",
      "source": [
        "!pip install pyspark"
      ],
      "metadata": {
        "colab": {
          "base_uri": "https://localhost:8080/"
        },
        "id": "6p28R0qIvTyg",
        "outputId": "d64c37ee-4eac-453c-8f53-677133666c5a"
      },
      "execution_count": 1,
      "outputs": [
        {
          "output_type": "stream",
          "name": "stdout",
          "text": [
            "Looking in indexes: https://pypi.org/simple, https://us-python.pkg.dev/colab-wheels/public/simple/\n",
            "Collecting pyspark\n",
            "  Downloading pyspark-3.3.1.tar.gz (281.4 MB)\n",
            "\u001b[K     |████████████████████████████████| 281.4 MB 38 kB/s \n",
            "\u001b[?25hCollecting py4j==0.10.9.5\n",
            "  Downloading py4j-0.10.9.5-py2.py3-none-any.whl (199 kB)\n",
            "\u001b[K     |████████████████████████████████| 199 kB 23.1 MB/s \n",
            "\u001b[?25hBuilding wheels for collected packages: pyspark\n",
            "  Building wheel for pyspark (setup.py) ... \u001b[?25l\u001b[?25hdone\n",
            "  Created wheel for pyspark: filename=pyspark-3.3.1-py2.py3-none-any.whl size=281845512 sha256=a68b9f340b99c890ebb510cf53c946f9317c048d9fe25915bd197f48c2d2139b\n",
            "  Stored in directory: /root/.cache/pip/wheels/42/59/f5/79a5bf931714dcd201b26025347785f087370a10a3329a899c\n",
            "Successfully built pyspark\n",
            "Installing collected packages: py4j, pyspark\n",
            "Successfully installed py4j-0.10.9.5 pyspark-3.3.1\n"
          ]
        }
      ]
    },
    {
      "cell_type": "markdown",
      "source": [
        "# Instalação comum"
      ],
      "metadata": {
        "id": "rXRBbzi3vk-Z"
      }
    },
    {
      "cell_type": "code",
      "source": [
        " # Importando o SparkSession\n",
        "from pyspark.sql import SparkSession\n",
        "# Criando a seção Spark\n",
        "spark = spark = SparkSession.builder \\\n",
        "    .master('local[*]') \\\n",
        "    .appName('Iniciando com Spark') \\\n",
        "    .config('spark.ui.port', '4050') \\\n",
        "    .getOrCreate() \n",
        "# Verificando as informações da seção do Spark\n",
        "spark\n",
        "\n"
      ],
      "metadata": {
        "colab": {
          "base_uri": "https://localhost:8080/",
          "height": 344
        },
        "id": "h51hBN26pVZQ",
        "outputId": "8d9eca59-fd74-4346-c482-a6213a121af4"
      },
      "execution_count": 2,
      "outputs": [
        {
          "output_type": "execute_result",
          "data": {
            "text/plain": [
              "<pyspark.sql.session.SparkSession at 0x7f592d279390>"
            ],
            "text/html": [
              "\n",
              "            <div>\n",
              "                <p><b>SparkSession - in-memory</b></p>\n",
              "                \n",
              "        <div>\n",
              "            <p><b>SparkContext</b></p>\n",
              "\n",
              "            <p><a href=\"http://2c14d5cc19ef:4050\">Spark UI</a></p>\n",
              "\n",
              "            <dl>\n",
              "              <dt>Version</dt>\n",
              "                <dd><code>v3.3.1</code></dd>\n",
              "              <dt>Master</dt>\n",
              "                <dd><code>local[*]</code></dd>\n",
              "              <dt>AppName</dt>\n",
              "                <dd><code>Iniciando com Spark</code></dd>\n",
              "            </dl>\n",
              "        </div>\n",
              "        \n",
              "            </div>\n",
              "        "
            ]
          },
          "metadata": {},
          "execution_count": 2
        }
      ]
    },
    {
      "cell_type": "code",
      "source": [
        "from pyspark.sql.functions import explode\n",
        "import numpy as np  \n",
        "import pandas as pd"
      ],
      "metadata": {
        "id": "3ozOhVTe5S44"
      },
      "execution_count": 3,
      "outputs": []
    },
    {
      "cell_type": "markdown",
      "source": [
        "# Carregando o arquivo"
      ],
      "metadata": {
        "id": "b6mbfFSC8pRE"
      }
    },
    {
      "cell_type": "code",
      "source": [
        "%%time\n",
        "df = spark.read.json('dataset_bruto.json')\n"
      ],
      "metadata": {
        "colab": {
          "base_uri": "https://localhost:8080/"
        },
        "id": "xiiUW6ET7oA8",
        "outputId": "c8cc27a7-6103-4121-b8f7-7069da463bde"
      },
      "execution_count": 4,
      "outputs": [
        {
          "output_type": "stream",
          "name": "stdout",
          "text": [
            "CPU times: user 94.9 ms, sys: 18.3 ms, total: 113 ms\n",
            "Wall time: 13.5 s\n"
          ]
        }
      ]
    },
    {
      "cell_type": "code",
      "source": [
        "%%time\n",
        "df_pandas = pd.read_json('dataset_bruto.json')"
      ],
      "metadata": {
        "colab": {
          "base_uri": "https://localhost:8080/"
        },
        "id": "9vvlfyFc-wVO",
        "outputId": "762cbf54-07be-420d-d001-7512ef00cd1e"
      },
      "execution_count": 5,
      "outputs": [
        {
          "output_type": "stream",
          "name": "stdout",
          "text": [
            "CPU times: user 3.99 s, sys: 1.62 s, total: 5.62 s\n",
            "Wall time: 5.65 s\n"
          ]
        }
      ]
    },
    {
      "cell_type": "code",
      "source": [
        "df.printSchema()"
      ],
      "metadata": {
        "colab": {
          "base_uri": "https://localhost:8080/"
        },
        "id": "dIw9sPeU-smS",
        "outputId": "c7bb2338-2ed9-4db4-f8ec-4d40b04f9bea"
      },
      "execution_count": 6,
      "outputs": [
        {
          "output_type": "stream",
          "name": "stdout",
          "text": [
            "root\n",
            " |-- anuncio: struct (nullable = true)\n",
            " |    |-- andar: long (nullable = true)\n",
            " |    |-- area_total: array (nullable = true)\n",
            " |    |    |-- element: string (containsNull = true)\n",
            " |    |-- area_util: array (nullable = true)\n",
            " |    |    |-- element: string (containsNull = true)\n",
            " |    |-- banheiros: array (nullable = true)\n",
            " |    |    |-- element: long (containsNull = true)\n",
            " |    |-- caracteristicas: array (nullable = true)\n",
            " |    |    |-- element: string (containsNull = true)\n",
            " |    |-- endereco: struct (nullable = true)\n",
            " |    |    |-- bairro: string (nullable = true)\n",
            " |    |    |-- cep: string (nullable = true)\n",
            " |    |    |-- cidade: string (nullable = true)\n",
            " |    |    |-- estado: string (nullable = true)\n",
            " |    |    |-- latitude: double (nullable = true)\n",
            " |    |    |-- longitude: double (nullable = true)\n",
            " |    |    |-- pais: string (nullable = true)\n",
            " |    |    |-- rua: string (nullable = true)\n",
            " |    |    |-- zona: string (nullable = true)\n",
            " |    |-- id: string (nullable = true)\n",
            " |    |-- quartos: array (nullable = true)\n",
            " |    |    |-- element: long (containsNull = true)\n",
            " |    |-- suites: array (nullable = true)\n",
            " |    |    |-- element: long (containsNull = true)\n",
            " |    |-- tipo_anuncio: string (nullable = true)\n",
            " |    |-- tipo_unidade: string (nullable = true)\n",
            " |    |-- tipo_uso: string (nullable = true)\n",
            " |    |-- vaga: array (nullable = true)\n",
            " |    |    |-- element: long (containsNull = true)\n",
            " |    |-- valores: array (nullable = true)\n",
            " |    |    |-- element: struct (containsNull = true)\n",
            " |    |    |    |-- condominio: string (nullable = true)\n",
            " |    |    |    |-- iptu: string (nullable = true)\n",
            " |    |    |    |-- tipo: string (nullable = true)\n",
            " |    |    |    |-- valor: string (nullable = true)\n",
            " |-- imagens: array (nullable = true)\n",
            " |    |-- element: struct (containsNull = true)\n",
            " |    |    |-- id: string (nullable = true)\n",
            " |    |    |-- url: string (nullable = true)\n",
            " |-- usuario: struct (nullable = true)\n",
            " |    |-- id: string (nullable = true)\n",
            " |    |-- nome: string (nullable = true)\n",
            "\n"
          ]
        }
      ]
    },
    {
      "cell_type": "markdown",
      "source": [
        "# Exploração"
      ],
      "metadata": {
        "id": "KVkb7CshyS6w"
      }
    },
    {
      "cell_type": "code",
      "source": [
        "# Deletar as colunas imagens e usuário,  que não serão usadas nessa análise\n",
        "colunas = ['imagens' ,  'usuario']\n",
        "df.drop(*colunas).printSchema() # Tem que colocar a '*' em caso de multiplas colunas\n"
      ],
      "metadata": {
        "colab": {
          "base_uri": "https://localhost:8080/"
        },
        "id": "Hb9BRNb4Ala9",
        "outputId": "1670f2c0-ce06-42fe-99cd-ed41f7234eff"
      },
      "execution_count": 7,
      "outputs": [
        {
          "output_type": "stream",
          "name": "stdout",
          "text": [
            "root\n",
            " |-- anuncio: struct (nullable = true)\n",
            " |    |-- andar: long (nullable = true)\n",
            " |    |-- area_total: array (nullable = true)\n",
            " |    |    |-- element: string (containsNull = true)\n",
            " |    |-- area_util: array (nullable = true)\n",
            " |    |    |-- element: string (containsNull = true)\n",
            " |    |-- banheiros: array (nullable = true)\n",
            " |    |    |-- element: long (containsNull = true)\n",
            " |    |-- caracteristicas: array (nullable = true)\n",
            " |    |    |-- element: string (containsNull = true)\n",
            " |    |-- endereco: struct (nullable = true)\n",
            " |    |    |-- bairro: string (nullable = true)\n",
            " |    |    |-- cep: string (nullable = true)\n",
            " |    |    |-- cidade: string (nullable = true)\n",
            " |    |    |-- estado: string (nullable = true)\n",
            " |    |    |-- latitude: double (nullable = true)\n",
            " |    |    |-- longitude: double (nullable = true)\n",
            " |    |    |-- pais: string (nullable = true)\n",
            " |    |    |-- rua: string (nullable = true)\n",
            " |    |    |-- zona: string (nullable = true)\n",
            " |    |-- id: string (nullable = true)\n",
            " |    |-- quartos: array (nullable = true)\n",
            " |    |    |-- element: long (containsNull = true)\n",
            " |    |-- suites: array (nullable = true)\n",
            " |    |    |-- element: long (containsNull = true)\n",
            " |    |-- tipo_anuncio: string (nullable = true)\n",
            " |    |-- tipo_unidade: string (nullable = true)\n",
            " |    |-- tipo_uso: string (nullable = true)\n",
            " |    |-- vaga: array (nullable = true)\n",
            " |    |    |-- element: long (containsNull = true)\n",
            " |    |-- valores: array (nullable = true)\n",
            " |    |    |-- element: struct (containsNull = true)\n",
            " |    |    |    |-- condominio: string (nullable = true)\n",
            " |    |    |    |-- iptu: string (nullable = true)\n",
            " |    |    |    |-- tipo: string (nullable = true)\n",
            " |    |    |    |-- valor: string (nullable = true)\n",
            "\n"
          ]
        }
      ]
    },
    {
      "cell_type": "markdown",
      "source": [
        "Criando uma nova varável, porque com df não apaga os usb níveis indesejáveis"
      ],
      "metadata": {
        "id": "B11RvgICv51_"
      }
    },
    {
      "cell_type": "code",
      "source": [
        "anuncio = df.select('anuncio.*')\n",
        "anuncio.show()"
      ],
      "metadata": {
        "colab": {
          "base_uri": "https://localhost:8080/"
        },
        "id": "Ps5LAlliPXE5",
        "outputId": "06931466-f836-4515-ce9a-f2dd952a1012"
      },
      "execution_count": 8,
      "outputs": [
        {
          "output_type": "stream",
          "name": "stdout",
          "text": [
            "+-----+----------+---------+---------+--------------------+--------------------+--------------------+-------+------+------------+------------+-----------+----+--------------------+\n",
            "|andar|area_total|area_util|banheiros|     caracteristicas|            endereco|                  id|quartos|suites|tipo_anuncio|tipo_unidade|   tipo_uso|vaga|             valores|\n",
            "+-----+----------+---------+---------+--------------------+--------------------+--------------------+-------+------+------------+------------+-----------+----+--------------------+\n",
            "|    0|        []|     [16]|      [0]|                  []|{Centro, 20061003...|47d553e0-79f2-4a4...|    [0]|   [0]|       Usado|      Outros|  Comercial| [1]|[{260, 107, Venda...|\n",
            "|    0|        []|     [14]|      [0]|                  []|{Centro, 20051040...|b6ffbae1-17f6-487...|    [0]|    []|       Usado|      Outros|  Comercial| [0]|[{260, 107, Venda...|\n",
            "|    0|    [1026]|   [1026]|      [0]|                  []|{Maria da Graça, ...|1fb030a5-9e3e-4a1...|    [0]|    []|       Usado|      Outros|  Comercial| [0]|[{null, 1613, Ven...|\n",
            "|    0|     [120]|    [120]|      [0]|[Portão eletrônic...|{Campo Grande, 23...|ac6cb348-69d6-45a...|    [0]|    []|       Usado|      Outros|Residencial|  []|[{80, null, Venda...|\n",
            "|    0|       [3]|      [3]|      [0]|                  []|{São Cristóvão, 2...|e032b908-ef42-4d4...|    [0]|    []|       Usado|      Outros|Residencial|  []|[{0, 0, Venda, 50...|\n",
            "|    0|      [20]|     [15]|      [1]|                  []|{Centro, 20231047...|df9cf0b8-b972-433...|    [0]|    []|       Usado|      Outros|  Comercial| [1]|[{223, 87, Venda,...|\n",
            "|    3|      [43]|     [43]|      [1]|[Academia, Churra...|{Paciência, 23585...|d2e3a3aa-09b5-45a...|    [2]|    []|       Usado| Apartamento|Residencial| [1]|[{245, null, Vend...|\n",
            "|    2|      [42]|     [42]|      [1]|[Churrasqueira, P...|{Paciência, 23585...|085bab2c-87ad-452...|    [2]|    []|       Usado| Apartamento|Residencial| [1]|[{0, 0, Venda, 15...|\n",
            "|    0|        []|     [12]|      [0]|[Portaria 24h, El...|{Centro, 20231047...|096ad966-dc36-47b...|    [0]|    []|       Usado|      Outros|  Comercial| [1]|[{250, null, Vend...|\n",
            "|    1|      [41]|     [41]|      [1]|[Portaria 24h, Co...|{Guaratiba, 23036...|18d22cbe-1b86-476...|    [2]|    []|       Usado| Apartamento|Residencial| [1]|[{0, 0, Venda, 20...|\n",
            "|    3|      [43]|     [43]|      [1]|[Churrasqueira, P...|{Cosmos, 23066271...|bed8a354-9317-442...|    [2]|    []|       Usado| Apartamento|Residencial| [0]|[{285, null, Vend...|\n",
            "|    0|      [10]|      [4]|      [0]|[Elevador, Portar...|{Centro, 20080021...|b7d0fbd3-0b28-420...|    [0]|    []|       Usado|      Outros|  Comercial| [0]|[{200, 86, Venda,...|\n",
            "|    0|      [12]|     [12]|      [1]|      [Portaria 24h]|{Copacabana, 2202...|c6571c11-166e-4a4...|    [0]|    []|       Usado|      Outros|  Comercial|  []|[{470, null, Vend...|\n",
            "|    0|      [17]|     [17]|      [0]|          [Elevador]|{Centro, 20070021...|46d5b560-205f-45f...|    [0]|    []|       Usado|      Outros|  Comercial| [1]|[{294, 98, Venda,...|\n",
            "|    1|      [32]|     [32]|       []|[Elevador, Condom...|{Centro, 20090020...|db197997-00e6-4d6...|     []|    []|       Usado|      Outros|  Comercial| [1]|[{684, null, Vend...|\n",
            "|    0|        []|     [10]|      [0]|[Elevador, Condom...|{Saúde, 20080040,...|835d4338-4aa9-4e4...|    [0]|    []|       Usado|      Outros|  Comercial|  []|[{0, 120, Venda, ...|\n",
            "|    2|      [43]|     [43]|      [1]|[Academia, Churra...|{Guaratiba, 23036...|12a13315-d67f-48f...|    [2]|    []|       Usado| Apartamento|Residencial| [1]|[{245, null, Vend...|\n",
            "|    3|      [43]|     [43]|      [1]|[Churrasqueira, P...|{Cosmos, 23066271...|a2e6d7a5-0ff0-484...|    [2]|   [0]|       Usado| Apartamento|Residencial| [0]|[{285, null, Vend...|\n",
            "|    3|      [43]|     [43]|      [1]|[Churrasqueira, P...|{Paciência, 23585...|a6e3173b-c950-4db...|    [2]|    []|       Usado| Apartamento|Residencial| [1]|[{250, null, Vend...|\n",
            "|    3|      [43]|     [43]|      [1]|[Churrasqueira, P...|{Guaratiba, 23036...|2e6e5dfb-206c-496...|    [2]|   [0]|       Usado| Apartamento|Residencial| [1]|[{245, null, Vend...|\n",
            "+-----+----------+---------+---------+--------------------+--------------------+--------------------+-------+------+------------+------------+-----------+----+--------------------+\n",
            "only showing top 20 rows\n",
            "\n"
          ]
        }
      ]
    },
    {
      "cell_type": "code",
      "source": [
        "anuncio.printSchema()"
      ],
      "metadata": {
        "colab": {
          "base_uri": "https://localhost:8080/"
        },
        "id": "LCX-x18_JnsJ",
        "outputId": "1a97184f-7387-4a2a-9ae9-ba1657254a70"
      },
      "execution_count": 9,
      "outputs": [
        {
          "output_type": "stream",
          "name": "stdout",
          "text": [
            "root\n",
            " |-- andar: long (nullable = true)\n",
            " |-- area_total: array (nullable = true)\n",
            " |    |-- element: string (containsNull = true)\n",
            " |-- area_util: array (nullable = true)\n",
            " |    |-- element: string (containsNull = true)\n",
            " |-- banheiros: array (nullable = true)\n",
            " |    |-- element: long (containsNull = true)\n",
            " |-- caracteristicas: array (nullable = true)\n",
            " |    |-- element: string (containsNull = true)\n",
            " |-- endereco: struct (nullable = true)\n",
            " |    |-- bairro: string (nullable = true)\n",
            " |    |-- cep: string (nullable = true)\n",
            " |    |-- cidade: string (nullable = true)\n",
            " |    |-- estado: string (nullable = true)\n",
            " |    |-- latitude: double (nullable = true)\n",
            " |    |-- longitude: double (nullable = true)\n",
            " |    |-- pais: string (nullable = true)\n",
            " |    |-- rua: string (nullable = true)\n",
            " |    |-- zona: string (nullable = true)\n",
            " |-- id: string (nullable = true)\n",
            " |-- quartos: array (nullable = true)\n",
            " |    |-- element: long (containsNull = true)\n",
            " |-- suites: array (nullable = true)\n",
            " |    |-- element: long (containsNull = true)\n",
            " |-- tipo_anuncio: string (nullable = true)\n",
            " |-- tipo_unidade: string (nullable = true)\n",
            " |-- tipo_uso: string (nullable = true)\n",
            " |-- vaga: array (nullable = true)\n",
            " |    |-- element: long (containsNull = true)\n",
            " |-- valores: array (nullable = true)\n",
            " |    |-- element: struct (containsNull = true)\n",
            " |    |    |-- condominio: string (nullable = true)\n",
            " |    |    |-- iptu: string (nullable = true)\n",
            " |    |    |-- tipo: string (nullable = true)\n",
            " |    |    |-- valor: string (nullable = true)\n",
            "\n"
          ]
        }
      ]
    },
    {
      "cell_type": "markdown",
      "source": [
        "Planificando as colunas"
      ],
      "metadata": {
        "id": "WaEaU4VtwJ8-"
      }
    },
    {
      "cell_type": "code",
      "source": [
        "from pyspark.sql.functions import *\n",
        "from pyspark.sql.types import *\n",
        "\n",
        "def read_nested_json(anuncio):\n",
        "    column_list = []\n",
        "\n",
        "    for column_name in anuncio.schema.names:\n",
        "        print(\"Outside isinstance loop: \" + column_name)\n",
        "        # Checking column type is ArrayType\n",
        "        if isinstance(anuncio.schema[column_name].dataType, ArrayType):\n",
        "            print(\"Inside isinstance loop of ArrayType: \" + column_name)\n",
        "            anuncio = anuncio.withColumn(column_name, explode(column_name).alias(column_name))\n",
        "            column_list.append(column_name)\n",
        "\n",
        "        elif isinstance(anuncio.schema[column_name].dataType, StructType):\n",
        "            print(\"Inside isinstance loop of StructType: \" + column_name)\n",
        "            for field in anuncio.schema[column_name].dataType.fields:\n",
        "                column_list.append(col(column_name + \".\" + field.name).alias(column_name + \"_\" + field.name))\n",
        "        else:\n",
        "            column_list.append(column_name)\n",
        "\n",
        "    # Selecting columns using column_list from dataframe: anuncio\n",
        "    anuncio = anuncio.select(column_list)\n",
        "    return anuncio\n",
        "\n",
        "read_nested_json_flag = True\n",
        "\n",
        "while read_nested_json_flag:\n",
        "  print(\"Reading Nested JSON File ... \")\n",
        "  anuncio = read_nested_json(anuncio)\n",
        "  anuncio.show(10, False)\n",
        "  read_nested_json_flag = False\n",
        "\n",
        "  for column_name in anuncio.schema.names:\n",
        "    if isinstance(anuncio.schema[column_name].dataType, ArrayType):\n",
        "      read_nested_json_flag = True\n",
        "    elif isinstance(anuncio.schema[column_name].dataType, StructType):\n",
        "      read_nested_json_flag = True\n"
      ],
      "metadata": {
        "colab": {
          "base_uri": "https://localhost:8080/"
        },
        "id": "4Q67XvT8J2yd",
        "outputId": "26569fd1-7364-4859-ca03-6a8597a349a4"
      },
      "execution_count": 10,
      "outputs": [
        {
          "output_type": "stream",
          "name": "stdout",
          "text": [
            "Reading Nested JSON File ... \n",
            "Outside isinstance loop: andar\n",
            "Outside isinstance loop: area_total\n",
            "Inside isinstance loop of ArrayType: area_total\n",
            "Outside isinstance loop: area_util\n",
            "Inside isinstance loop of ArrayType: area_util\n",
            "Outside isinstance loop: banheiros\n",
            "Inside isinstance loop of ArrayType: banheiros\n",
            "Outside isinstance loop: caracteristicas\n",
            "Inside isinstance loop of ArrayType: caracteristicas\n",
            "Outside isinstance loop: endereco\n",
            "Inside isinstance loop of StructType: endereco\n",
            "Outside isinstance loop: id\n",
            "Outside isinstance loop: quartos\n",
            "Inside isinstance loop of ArrayType: quartos\n",
            "Outside isinstance loop: suites\n",
            "Inside isinstance loop of ArrayType: suites\n",
            "Outside isinstance loop: tipo_anuncio\n",
            "Outside isinstance loop: tipo_unidade\n",
            "Outside isinstance loop: tipo_uso\n",
            "Outside isinstance loop: vaga\n",
            "Inside isinstance loop of ArrayType: vaga\n",
            "Outside isinstance loop: valores\n",
            "Inside isinstance loop of ArrayType: valores\n",
            "+-----+----------+---------+---------+------------------+---------------+------------+---------------+---------------+-----------------+------------------+-------------+-----------------------+-------------+------------------------------------+-------+------+------------+------------+-----------+----+-------------------------+\n",
            "|andar|area_total|area_util|banheiros|caracteristicas   |endereco_bairro|endereco_cep|endereco_cidade|endereco_estado|endereco_latitude|endereco_longitude|endereco_pais|endereco_rua           |endereco_zona|id                                  |quartos|suites|tipo_anuncio|tipo_unidade|tipo_uso   |vaga|valores                  |\n",
            "+-----+----------+---------+---------+------------------+---------------+------------+---------------+---------------+-----------------+------------------+-------------+-----------------------+-------------+------------------------------------+-------+------+------------+------------+-----------+----+-------------------------+\n",
            "|3    |43        |43       |1        |Churrasqueira     |Cosmos         |23066271    |Rio de Janeiro |Rio de Janeiro |-22.888194       |-43.629602        |BR           |Estrada da Paciência   |Zona Oeste   |a2e6d7a5-0ff0-484d-b3d8-3a8f15e2d80e|2      |0     |Usado       |Apartamento |Residencial|0   |{285, null, Venda, 20000}|\n",
            "|3    |43        |43       |1        |Piscina           |Cosmos         |23066271    |Rio de Janeiro |Rio de Janeiro |-22.888194       |-43.629602        |BR           |Estrada da Paciência   |Zona Oeste   |a2e6d7a5-0ff0-484d-b3d8-3a8f15e2d80e|2      |0     |Usado       |Apartamento |Residencial|0   |{285, null, Venda, 20000}|\n",
            "|3    |43        |43       |1        |Playground        |Cosmos         |23066271    |Rio de Janeiro |Rio de Janeiro |-22.888194       |-43.629602        |BR           |Estrada da Paciência   |Zona Oeste   |a2e6d7a5-0ff0-484d-b3d8-3a8f15e2d80e|2      |0     |Usado       |Apartamento |Residencial|0   |{285, null, Venda, 20000}|\n",
            "|3    |43        |43       |1        |Salão de festas   |Cosmos         |23066271    |Rio de Janeiro |Rio de Janeiro |-22.888194       |-43.629602        |BR           |Estrada da Paciência   |Zona Oeste   |a2e6d7a5-0ff0-484d-b3d8-3a8f15e2d80e|2      |0     |Usado       |Apartamento |Residencial|0   |{285, null, Venda, 20000}|\n",
            "|3    |43        |43       |1        |Condomínio fechado|Cosmos         |23066271    |Rio de Janeiro |Rio de Janeiro |-22.888194       |-43.629602        |BR           |Estrada da Paciência   |Zona Oeste   |a2e6d7a5-0ff0-484d-b3d8-3a8f15e2d80e|2      |0     |Usado       |Apartamento |Residencial|0   |{285, null, Venda, 20000}|\n",
            "|3    |43        |43       |1        |Portaria 24h      |Cosmos         |23066271    |Rio de Janeiro |Rio de Janeiro |-22.888194       |-43.629602        |BR           |Estrada da Paciência   |Zona Oeste   |a2e6d7a5-0ff0-484d-b3d8-3a8f15e2d80e|2      |0     |Usado       |Apartamento |Residencial|0   |{285, null, Venda, 20000}|\n",
            "|3    |43        |43       |1        |Portão eletrônico |Cosmos         |23066271    |Rio de Janeiro |Rio de Janeiro |-22.888194       |-43.629602        |BR           |Estrada da Paciência   |Zona Oeste   |a2e6d7a5-0ff0-484d-b3d8-3a8f15e2d80e|2      |0     |Usado       |Apartamento |Residencial|0   |{285, null, Venda, 20000}|\n",
            "|3    |43        |43       |1        |Animais permitidos|Cosmos         |23066271    |Rio de Janeiro |Rio de Janeiro |-22.888194       |-43.629602        |BR           |Estrada da Paciência   |Zona Oeste   |a2e6d7a5-0ff0-484d-b3d8-3a8f15e2d80e|2      |0     |Usado       |Apartamento |Residencial|0   |{285, null, Venda, 20000}|\n",
            "|3    |43        |43       |1        |Churrasqueira     |Guaratiba      |23036060    |Rio de Janeiro |Rio de Janeiro |-22.948291       |-43.582205        |BR           |Estrada Cabuçu de Baixo|Zona Oeste   |2e6e5dfb-206c-4968-944b-ea4c3918b50d|2      |0     |Usado       |Apartamento |Residencial|1   |{245, null, Venda, 15000}|\n",
            "|3    |43        |43       |1        |Playground        |Guaratiba      |23036060    |Rio de Janeiro |Rio de Janeiro |-22.948291       |-43.582205        |BR           |Estrada Cabuçu de Baixo|Zona Oeste   |2e6e5dfb-206c-4968-944b-ea4c3918b50d|2      |0     |Usado       |Apartamento |Residencial|1   |{245, null, Venda, 15000}|\n",
            "+-----+----------+---------+---------+------------------+---------------+------------+---------------+---------------+-----------------+------------------+-------------+-----------------------+-------------+------------------------------------+-------+------+------------+------------+-----------+----+-------------------------+\n",
            "only showing top 10 rows\n",
            "\n",
            "Reading Nested JSON File ... \n",
            "Outside isinstance loop: andar\n",
            "Outside isinstance loop: area_total\n",
            "Outside isinstance loop: area_util\n",
            "Outside isinstance loop: banheiros\n",
            "Outside isinstance loop: caracteristicas\n",
            "Outside isinstance loop: endereco_bairro\n",
            "Outside isinstance loop: endereco_cep\n",
            "Outside isinstance loop: endereco_cidade\n",
            "Outside isinstance loop: endereco_estado\n",
            "Outside isinstance loop: endereco_latitude\n",
            "Outside isinstance loop: endereco_longitude\n",
            "Outside isinstance loop: endereco_pais\n",
            "Outside isinstance loop: endereco_rua\n",
            "Outside isinstance loop: endereco_zona\n",
            "Outside isinstance loop: id\n",
            "Outside isinstance loop: quartos\n",
            "Outside isinstance loop: suites\n",
            "Outside isinstance loop: tipo_anuncio\n",
            "Outside isinstance loop: tipo_unidade\n",
            "Outside isinstance loop: tipo_uso\n",
            "Outside isinstance loop: vaga\n",
            "Outside isinstance loop: valores\n",
            "Inside isinstance loop of StructType: valores\n",
            "+-----+----------+---------+---------+------------------+---------------+------------+---------------+---------------+-----------------+------------------+-------------+-----------------------+-------------+------------------------------------+-------+------+------------+------------+-----------+----+------------------+------------+------------+-------------+\n",
            "|andar|area_total|area_util|banheiros|caracteristicas   |endereco_bairro|endereco_cep|endereco_cidade|endereco_estado|endereco_latitude|endereco_longitude|endereco_pais|endereco_rua           |endereco_zona|id                                  |quartos|suites|tipo_anuncio|tipo_unidade|tipo_uso   |vaga|valores_condominio|valores_iptu|valores_tipo|valores_valor|\n",
            "+-----+----------+---------+---------+------------------+---------------+------------+---------------+---------------+-----------------+------------------+-------------+-----------------------+-------------+------------------------------------+-------+------+------------+------------+-----------+----+------------------+------------+------------+-------------+\n",
            "|3    |43        |43       |1        |Churrasqueira     |Cosmos         |23066271    |Rio de Janeiro |Rio de Janeiro |-22.888194       |-43.629602        |BR           |Estrada da Paciência   |Zona Oeste   |a2e6d7a5-0ff0-484d-b3d8-3a8f15e2d80e|2      |0     |Usado       |Apartamento |Residencial|0   |285               |null        |Venda       |20000        |\n",
            "|3    |43        |43       |1        |Piscina           |Cosmos         |23066271    |Rio de Janeiro |Rio de Janeiro |-22.888194       |-43.629602        |BR           |Estrada da Paciência   |Zona Oeste   |a2e6d7a5-0ff0-484d-b3d8-3a8f15e2d80e|2      |0     |Usado       |Apartamento |Residencial|0   |285               |null        |Venda       |20000        |\n",
            "|3    |43        |43       |1        |Playground        |Cosmos         |23066271    |Rio de Janeiro |Rio de Janeiro |-22.888194       |-43.629602        |BR           |Estrada da Paciência   |Zona Oeste   |a2e6d7a5-0ff0-484d-b3d8-3a8f15e2d80e|2      |0     |Usado       |Apartamento |Residencial|0   |285               |null        |Venda       |20000        |\n",
            "|3    |43        |43       |1        |Salão de festas   |Cosmos         |23066271    |Rio de Janeiro |Rio de Janeiro |-22.888194       |-43.629602        |BR           |Estrada da Paciência   |Zona Oeste   |a2e6d7a5-0ff0-484d-b3d8-3a8f15e2d80e|2      |0     |Usado       |Apartamento |Residencial|0   |285               |null        |Venda       |20000        |\n",
            "|3    |43        |43       |1        |Condomínio fechado|Cosmos         |23066271    |Rio de Janeiro |Rio de Janeiro |-22.888194       |-43.629602        |BR           |Estrada da Paciência   |Zona Oeste   |a2e6d7a5-0ff0-484d-b3d8-3a8f15e2d80e|2      |0     |Usado       |Apartamento |Residencial|0   |285               |null        |Venda       |20000        |\n",
            "|3    |43        |43       |1        |Portaria 24h      |Cosmos         |23066271    |Rio de Janeiro |Rio de Janeiro |-22.888194       |-43.629602        |BR           |Estrada da Paciência   |Zona Oeste   |a2e6d7a5-0ff0-484d-b3d8-3a8f15e2d80e|2      |0     |Usado       |Apartamento |Residencial|0   |285               |null        |Venda       |20000        |\n",
            "|3    |43        |43       |1        |Portão eletrônico |Cosmos         |23066271    |Rio de Janeiro |Rio de Janeiro |-22.888194       |-43.629602        |BR           |Estrada da Paciência   |Zona Oeste   |a2e6d7a5-0ff0-484d-b3d8-3a8f15e2d80e|2      |0     |Usado       |Apartamento |Residencial|0   |285               |null        |Venda       |20000        |\n",
            "|3    |43        |43       |1        |Animais permitidos|Cosmos         |23066271    |Rio de Janeiro |Rio de Janeiro |-22.888194       |-43.629602        |BR           |Estrada da Paciência   |Zona Oeste   |a2e6d7a5-0ff0-484d-b3d8-3a8f15e2d80e|2      |0     |Usado       |Apartamento |Residencial|0   |285               |null        |Venda       |20000        |\n",
            "|3    |43        |43       |1        |Churrasqueira     |Guaratiba      |23036060    |Rio de Janeiro |Rio de Janeiro |-22.948291       |-43.582205        |BR           |Estrada Cabuçu de Baixo|Zona Oeste   |2e6e5dfb-206c-4968-944b-ea4c3918b50d|2      |0     |Usado       |Apartamento |Residencial|1   |245               |null        |Venda       |15000        |\n",
            "|3    |43        |43       |1        |Playground        |Guaratiba      |23036060    |Rio de Janeiro |Rio de Janeiro |-22.948291       |-43.582205        |BR           |Estrada Cabuçu de Baixo|Zona Oeste   |2e6e5dfb-206c-4968-944b-ea4c3918b50d|2      |0     |Usado       |Apartamento |Residencial|1   |245               |null        |Venda       |15000        |\n",
            "+-----+----------+---------+---------+------------------+---------------+------------+---------------+---------------+-----------------+------------------+-------------+-----------------------+-------------+------------------------------------+-------+------+------------+------------+-----------+----+------------------+------------+------------+-------------+\n",
            "only showing top 10 rows\n",
            "\n"
          ]
        }
      ]
    },
    {
      "cell_type": "code",
      "source": [
        "anuncio.printSchema()"
      ],
      "metadata": {
        "colab": {
          "base_uri": "https://localhost:8080/"
        },
        "id": "0P13Wg90LjGW",
        "outputId": "4166be9e-71c1-4149-8892-b03d3d9d2840"
      },
      "execution_count": 11,
      "outputs": [
        {
          "output_type": "stream",
          "name": "stdout",
          "text": [
            "root\n",
            " |-- andar: long (nullable = true)\n",
            " |-- area_total: string (nullable = true)\n",
            " |-- area_util: string (nullable = true)\n",
            " |-- banheiros: long (nullable = true)\n",
            " |-- caracteristicas: string (nullable = true)\n",
            " |-- endereco_bairro: string (nullable = true)\n",
            " |-- endereco_cep: string (nullable = true)\n",
            " |-- endereco_cidade: string (nullable = true)\n",
            " |-- endereco_estado: string (nullable = true)\n",
            " |-- endereco_latitude: double (nullable = true)\n",
            " |-- endereco_longitude: double (nullable = true)\n",
            " |-- endereco_pais: string (nullable = true)\n",
            " |-- endereco_rua: string (nullable = true)\n",
            " |-- endereco_zona: string (nullable = true)\n",
            " |-- id: string (nullable = true)\n",
            " |-- quartos: long (nullable = true)\n",
            " |-- suites: long (nullable = true)\n",
            " |-- tipo_anuncio: string (nullable = true)\n",
            " |-- tipo_unidade: string (nullable = true)\n",
            " |-- tipo_uso: string (nullable = true)\n",
            " |-- vaga: long (nullable = true)\n",
            " |-- valores_condominio: string (nullable = true)\n",
            " |-- valores_iptu: string (nullable = true)\n",
            " |-- valores_tipo: string (nullable = true)\n",
            " |-- valores_valor: string (nullable = true)\n",
            "\n"
          ]
        }
      ]
    },
    {
      "cell_type": "code",
      "source": [
        "anuncio.show()"
      ],
      "metadata": {
        "colab": {
          "base_uri": "https://localhost:8080/"
        },
        "id": "iKgKUrJKNjPm",
        "outputId": "3a10dd12-b618-4d1f-b1b8-b31ef3daaf2a"
      },
      "execution_count": 12,
      "outputs": [
        {
          "output_type": "stream",
          "name": "stdout",
          "text": [
            "+-----+----------+---------+---------+------------------+---------------+------------+---------------+---------------+-----------------+------------------+-------------+--------------------+-------------+--------------------+-------+------+------------+------------+-----------+----+------------------+------------+------------+-------------+\n",
            "|andar|area_total|area_util|banheiros|   caracteristicas|endereco_bairro|endereco_cep|endereco_cidade|endereco_estado|endereco_latitude|endereco_longitude|endereco_pais|        endereco_rua|endereco_zona|                  id|quartos|suites|tipo_anuncio|tipo_unidade|   tipo_uso|vaga|valores_condominio|valores_iptu|valores_tipo|valores_valor|\n",
            "+-----+----------+---------+---------+------------------+---------------+------------+---------------+---------------+-----------------+------------------+-------------+--------------------+-------------+--------------------+-------+------+------------+------------+-----------+----+------------------+------------+------------+-------------+\n",
            "|    3|        43|       43|        1|     Churrasqueira|         Cosmos|    23066271| Rio de Janeiro| Rio de Janeiro|       -22.888194|        -43.629602|           BR|Estrada da Paciência|   Zona Oeste|a2e6d7a5-0ff0-484...|      2|     0|       Usado| Apartamento|Residencial|   0|               285|        null|       Venda|        20000|\n",
            "|    3|        43|       43|        1|           Piscina|         Cosmos|    23066271| Rio de Janeiro| Rio de Janeiro|       -22.888194|        -43.629602|           BR|Estrada da Paciência|   Zona Oeste|a2e6d7a5-0ff0-484...|      2|     0|       Usado| Apartamento|Residencial|   0|               285|        null|       Venda|        20000|\n",
            "|    3|        43|       43|        1|        Playground|         Cosmos|    23066271| Rio de Janeiro| Rio de Janeiro|       -22.888194|        -43.629602|           BR|Estrada da Paciência|   Zona Oeste|a2e6d7a5-0ff0-484...|      2|     0|       Usado| Apartamento|Residencial|   0|               285|        null|       Venda|        20000|\n",
            "|    3|        43|       43|        1|   Salão de festas|         Cosmos|    23066271| Rio de Janeiro| Rio de Janeiro|       -22.888194|        -43.629602|           BR|Estrada da Paciência|   Zona Oeste|a2e6d7a5-0ff0-484...|      2|     0|       Usado| Apartamento|Residencial|   0|               285|        null|       Venda|        20000|\n",
            "|    3|        43|       43|        1|Condomínio fechado|         Cosmos|    23066271| Rio de Janeiro| Rio de Janeiro|       -22.888194|        -43.629602|           BR|Estrada da Paciência|   Zona Oeste|a2e6d7a5-0ff0-484...|      2|     0|       Usado| Apartamento|Residencial|   0|               285|        null|       Venda|        20000|\n",
            "|    3|        43|       43|        1|      Portaria 24h|         Cosmos|    23066271| Rio de Janeiro| Rio de Janeiro|       -22.888194|        -43.629602|           BR|Estrada da Paciência|   Zona Oeste|a2e6d7a5-0ff0-484...|      2|     0|       Usado| Apartamento|Residencial|   0|               285|        null|       Venda|        20000|\n",
            "|    3|        43|       43|        1| Portão eletrônico|         Cosmos|    23066271| Rio de Janeiro| Rio de Janeiro|       -22.888194|        -43.629602|           BR|Estrada da Paciência|   Zona Oeste|a2e6d7a5-0ff0-484...|      2|     0|       Usado| Apartamento|Residencial|   0|               285|        null|       Venda|        20000|\n",
            "|    3|        43|       43|        1|Animais permitidos|         Cosmos|    23066271| Rio de Janeiro| Rio de Janeiro|       -22.888194|        -43.629602|           BR|Estrada da Paciência|   Zona Oeste|a2e6d7a5-0ff0-484...|      2|     0|       Usado| Apartamento|Residencial|   0|               285|        null|       Venda|        20000|\n",
            "|    3|        43|       43|        1|     Churrasqueira|      Guaratiba|    23036060| Rio de Janeiro| Rio de Janeiro|       -22.948291|        -43.582205|           BR|Estrada Cabuçu de...|   Zona Oeste|2e6e5dfb-206c-496...|      2|     0|       Usado| Apartamento|Residencial|   1|               245|        null|       Venda|        15000|\n",
            "|    3|        43|       43|        1|        Playground|      Guaratiba|    23036060| Rio de Janeiro| Rio de Janeiro|       -22.948291|        -43.582205|           BR|Estrada Cabuçu de...|   Zona Oeste|2e6e5dfb-206c-496...|      2|     0|       Usado| Apartamento|Residencial|   1|               245|        null|       Venda|        15000|\n",
            "|    3|        43|       43|        1|   Salão de festas|      Guaratiba|    23036060| Rio de Janeiro| Rio de Janeiro|       -22.948291|        -43.582205|           BR|Estrada Cabuçu de...|   Zona Oeste|2e6e5dfb-206c-496...|      2|     0|       Usado| Apartamento|Residencial|   1|               245|        null|       Venda|        15000|\n",
            "|    3|        43|       43|        1|Condomínio fechado|      Guaratiba|    23036060| Rio de Janeiro| Rio de Janeiro|       -22.948291|        -43.582205|           BR|Estrada Cabuçu de...|   Zona Oeste|2e6e5dfb-206c-496...|      2|     0|       Usado| Apartamento|Residencial|   1|               245|        null|       Venda|        15000|\n",
            "|    3|        43|       43|        1| Portão eletrônico|      Guaratiba|    23036060| Rio de Janeiro| Rio de Janeiro|       -22.948291|        -43.582205|           BR|Estrada Cabuçu de...|   Zona Oeste|2e6e5dfb-206c-496...|      2|     0|       Usado| Apartamento|Residencial|   1|               245|        null|       Venda|        15000|\n",
            "|    3|        43|       43|        1|Animais permitidos|      Guaratiba|    23036060| Rio de Janeiro| Rio de Janeiro|       -22.948291|        -43.582205|           BR|Estrada Cabuçu de...|   Zona Oeste|2e6e5dfb-206c-496...|      2|     0|       Usado| Apartamento|Residencial|   1|               245|        null|       Venda|        15000|\n",
            "|    3|        43|       43|        1|     Churrasqueira|      Paciência|    23585430| Rio de Janeiro| Rio de Janeiro|       -22.919851|        -43.634034|           BR|Estrada de Santa ...|   Zona Oeste|99f8d0f9-95a4-461...|      2|     0|       Usado| Apartamento|Residencial|   1|               245|        null|       Venda|        15000|\n",
            "|    3|        43|       43|        1|        Playground|      Paciência|    23585430| Rio de Janeiro| Rio de Janeiro|       -22.919851|        -43.634034|           BR|Estrada de Santa ...|   Zona Oeste|99f8d0f9-95a4-461...|      2|     0|       Usado| Apartamento|Residencial|   1|               245|        null|       Venda|        15000|\n",
            "|    3|        43|       43|        1|   Salão de festas|      Paciência|    23585430| Rio de Janeiro| Rio de Janeiro|       -22.919851|        -43.634034|           BR|Estrada de Santa ...|   Zona Oeste|99f8d0f9-95a4-461...|      2|     0|       Usado| Apartamento|Residencial|   1|               245|        null|       Venda|        15000|\n",
            "|    3|        43|       43|        1|Condomínio fechado|      Paciência|    23585430| Rio de Janeiro| Rio de Janeiro|       -22.919851|        -43.634034|           BR|Estrada de Santa ...|   Zona Oeste|99f8d0f9-95a4-461...|      2|     0|       Usado| Apartamento|Residencial|   1|               245|        null|       Venda|        15000|\n",
            "|    3|        43|       43|        1| Portão eletrônico|      Paciência|    23585430| Rio de Janeiro| Rio de Janeiro|       -22.919851|        -43.634034|           BR|Estrada de Santa ...|   Zona Oeste|99f8d0f9-95a4-461...|      2|     0|       Usado| Apartamento|Residencial|   1|               245|        null|       Venda|        15000|\n",
            "|    3|        43|       43|        1|      Portaria 24h|      Paciência|    23585430| Rio de Janeiro| Rio de Janeiro|       -22.919851|        -43.634034|           BR|Estrada de Santa ...|   Zona Oeste|99f8d0f9-95a4-461...|      2|     0|       Usado| Apartamento|Residencial|   1|               245|        null|       Venda|        15000|\n",
            "+-----+----------+---------+---------+------------------+---------------+------------+---------------+---------------+-----------------+------------------+-------------+--------------------+-------------+--------------------+-------+------+------------+------------+-----------+----+------------------+------------+------------+-------------+\n",
            "only showing top 20 rows\n",
            "\n"
          ]
        }
      ]
    },
    {
      "cell_type": "markdown",
      "source": [
        "Mudando o tipo das colunas"
      ],
      "metadata": {
        "id": "Ftk4ia7hwVE7"
      }
    },
    {
      "cell_type": "code",
      "source": [
        "import pyspark.sql.functions as F\n",
        "from pyspark.sql.types import StringType,IntegerType, FloatType\n",
        "\n",
        "cols_to_cast = [ \"andar\", \"area_total\" , 'area_util', 'banheiros', 'endereco_cep', 'quartos', 'suites', 'vaga', 'valores_condominio', 'valores_iptu',  'valores_valor']\n",
        "anuncio = anuncio.select([F.col(c).cast('int') if c in cols_to_cast else c for c in anuncio.columns])\n",
        "\n",
        "anuncio.printSchema()"
      ],
      "metadata": {
        "colab": {
          "base_uri": "https://localhost:8080/"
        },
        "id": "Wjf1PzleWDLz",
        "outputId": "113acf62-7e44-4eb2-da06-3833487f2a5b"
      },
      "execution_count": 13,
      "outputs": [
        {
          "output_type": "stream",
          "name": "stdout",
          "text": [
            "root\n",
            " |-- andar: integer (nullable = true)\n",
            " |-- area_total: integer (nullable = true)\n",
            " |-- area_util: integer (nullable = true)\n",
            " |-- banheiros: integer (nullable = true)\n",
            " |-- caracteristicas: string (nullable = true)\n",
            " |-- endereco_bairro: string (nullable = true)\n",
            " |-- endereco_cep: integer (nullable = true)\n",
            " |-- endereco_cidade: string (nullable = true)\n",
            " |-- endereco_estado: string (nullable = true)\n",
            " |-- endereco_latitude: double (nullable = true)\n",
            " |-- endereco_longitude: double (nullable = true)\n",
            " |-- endereco_pais: string (nullable = true)\n",
            " |-- endereco_rua: string (nullable = true)\n",
            " |-- endereco_zona: string (nullable = true)\n",
            " |-- id: string (nullable = true)\n",
            " |-- quartos: integer (nullable = true)\n",
            " |-- suites: integer (nullable = true)\n",
            " |-- tipo_anuncio: string (nullable = true)\n",
            " |-- tipo_unidade: string (nullable = true)\n",
            " |-- tipo_uso: string (nullable = true)\n",
            " |-- vaga: integer (nullable = true)\n",
            " |-- valores_condominio: integer (nullable = true)\n",
            " |-- valores_iptu: integer (nullable = true)\n",
            " |-- valores_tipo: string (nullable = true)\n",
            " |-- valores_valor: integer (nullable = true)\n",
            "\n"
          ]
        }
      ]
    },
    {
      "cell_type": "markdown",
      "source": [
        "# Filtros"
      ],
      "metadata": {
        "id": "6_DSNSqpylLF"
      }
    },
    {
      "cell_type": "code",
      "source": [
        "# Mostrar apenas bairro e zona \n",
        "endereço = anuncio[['endereco_bairro', 'endereco_zona' ]].distinct()\n",
        "endereço.show()"
      ],
      "metadata": {
        "colab": {
          "base_uri": "https://localhost:8080/"
        },
        "id": "yyCuYCQq0Omj",
        "outputId": "f003151d-d5e9-4818-e976-47c553ed8da9"
      },
      "execution_count": 16,
      "outputs": [
        {
          "output_type": "stream",
          "name": "stdout",
          "text": [
            "+--------------------+-------------+\n",
            "|     endereco_bairro|endereco_zona|\n",
            "+--------------------+-------------+\n",
            "|           Madureira|   Zona Norte|\n",
            "|          Cavalcanti|   Zona Norte|\n",
            "|              Catete|   Zona Oeste|\n",
            "|Recreio dos Bande...|   Zona Norte|\n",
            "|   Quintino Bocaiúva|   Zona Norte|\n",
            "|        Campo Grande|   Zona Oeste|\n",
            "|   Engenho da Rainha|   Zona Norte|\n",
            "|    Parque da Matriz|             |\n",
            "|               Bangu|   Zona Oeste|\n",
            "|               Lagoa|             |\n",
            "|         São Conrado|   Zona Oeste|\n",
            "|              Catete|     Zona Sul|\n",
            "|            Curicica|     Zona Sul|\n",
            "|         Jacarepaguá|   Zona Oeste|\n",
            "|     Parque Anchieta|   Zona Norte|\n",
            "|             Catumbi| Zona Central|\n",
            "|         Vila Isabel|   Zona Norte|\n",
            "|      Vargem Pequena|   Zona Oeste|\n",
            "|             Taquara|   Zona Oeste|\n",
            "|       Vila da Penha|   Zona Norte|\n",
            "+--------------------+-------------+\n",
            "only showing top 20 rows\n",
            "\n"
          ]
        }
      ]
    },
    {
      "cell_type": "code",
      "source": [
        "venda = anuncio.filter(anuncio.valores_tipo == 'Venda')\n",
        "venda.show()"
      ],
      "metadata": {
        "colab": {
          "base_uri": "https://localhost:8080/"
        },
        "id": "jHwxf4FbynJ0",
        "outputId": "0f771a6f-46dc-452a-8385-adb4b706c080"
      },
      "execution_count": 19,
      "outputs": [
        {
          "output_type": "stream",
          "name": "stdout",
          "text": [
            "+-----+----------+---------+---------+------------------+---------------+------------+---------------+---------------+-----------------+------------------+-------------+--------------------+-------------+--------------------+-------+------+------------+------------+-----------+----+------------------+------------+------------+-------------+\n",
            "|andar|area_total|area_util|banheiros|   caracteristicas|endereco_bairro|endereco_cep|endereco_cidade|endereco_estado|endereco_latitude|endereco_longitude|endereco_pais|        endereco_rua|endereco_zona|                  id|quartos|suites|tipo_anuncio|tipo_unidade|   tipo_uso|vaga|valores_condominio|valores_iptu|valores_tipo|valores_valor|\n",
            "+-----+----------+---------+---------+------------------+---------------+------------+---------------+---------------+-----------------+------------------+-------------+--------------------+-------------+--------------------+-------+------+------------+------------+-----------+----+------------------+------------+------------+-------------+\n",
            "|    3|        43|       43|        1|     Churrasqueira|         Cosmos|    23066271| Rio de Janeiro| Rio de Janeiro|       -22.888194|        -43.629602|           BR|Estrada da Paciência|   Zona Oeste|a2e6d7a5-0ff0-484...|      2|     0|       Usado| Apartamento|Residencial|   0|               285|        null|       Venda|        20000|\n",
            "|    3|        43|       43|        1|           Piscina|         Cosmos|    23066271| Rio de Janeiro| Rio de Janeiro|       -22.888194|        -43.629602|           BR|Estrada da Paciência|   Zona Oeste|a2e6d7a5-0ff0-484...|      2|     0|       Usado| Apartamento|Residencial|   0|               285|        null|       Venda|        20000|\n",
            "|    3|        43|       43|        1|        Playground|         Cosmos|    23066271| Rio de Janeiro| Rio de Janeiro|       -22.888194|        -43.629602|           BR|Estrada da Paciência|   Zona Oeste|a2e6d7a5-0ff0-484...|      2|     0|       Usado| Apartamento|Residencial|   0|               285|        null|       Venda|        20000|\n",
            "|    3|        43|       43|        1|   Salão de festas|         Cosmos|    23066271| Rio de Janeiro| Rio de Janeiro|       -22.888194|        -43.629602|           BR|Estrada da Paciência|   Zona Oeste|a2e6d7a5-0ff0-484...|      2|     0|       Usado| Apartamento|Residencial|   0|               285|        null|       Venda|        20000|\n",
            "|    3|        43|       43|        1|Condomínio fechado|         Cosmos|    23066271| Rio de Janeiro| Rio de Janeiro|       -22.888194|        -43.629602|           BR|Estrada da Paciência|   Zona Oeste|a2e6d7a5-0ff0-484...|      2|     0|       Usado| Apartamento|Residencial|   0|               285|        null|       Venda|        20000|\n",
            "|    3|        43|       43|        1|      Portaria 24h|         Cosmos|    23066271| Rio de Janeiro| Rio de Janeiro|       -22.888194|        -43.629602|           BR|Estrada da Paciência|   Zona Oeste|a2e6d7a5-0ff0-484...|      2|     0|       Usado| Apartamento|Residencial|   0|               285|        null|       Venda|        20000|\n",
            "|    3|        43|       43|        1| Portão eletrônico|         Cosmos|    23066271| Rio de Janeiro| Rio de Janeiro|       -22.888194|        -43.629602|           BR|Estrada da Paciência|   Zona Oeste|a2e6d7a5-0ff0-484...|      2|     0|       Usado| Apartamento|Residencial|   0|               285|        null|       Venda|        20000|\n",
            "|    3|        43|       43|        1|Animais permitidos|         Cosmos|    23066271| Rio de Janeiro| Rio de Janeiro|       -22.888194|        -43.629602|           BR|Estrada da Paciência|   Zona Oeste|a2e6d7a5-0ff0-484...|      2|     0|       Usado| Apartamento|Residencial|   0|               285|        null|       Venda|        20000|\n",
            "|    3|        43|       43|        1|     Churrasqueira|      Guaratiba|    23036060| Rio de Janeiro| Rio de Janeiro|       -22.948291|        -43.582205|           BR|Estrada Cabuçu de...|   Zona Oeste|2e6e5dfb-206c-496...|      2|     0|       Usado| Apartamento|Residencial|   1|               245|        null|       Venda|        15000|\n",
            "|    3|        43|       43|        1|        Playground|      Guaratiba|    23036060| Rio de Janeiro| Rio de Janeiro|       -22.948291|        -43.582205|           BR|Estrada Cabuçu de...|   Zona Oeste|2e6e5dfb-206c-496...|      2|     0|       Usado| Apartamento|Residencial|   1|               245|        null|       Venda|        15000|\n",
            "|    3|        43|       43|        1|   Salão de festas|      Guaratiba|    23036060| Rio de Janeiro| Rio de Janeiro|       -22.948291|        -43.582205|           BR|Estrada Cabuçu de...|   Zona Oeste|2e6e5dfb-206c-496...|      2|     0|       Usado| Apartamento|Residencial|   1|               245|        null|       Venda|        15000|\n",
            "|    3|        43|       43|        1|Condomínio fechado|      Guaratiba|    23036060| Rio de Janeiro| Rio de Janeiro|       -22.948291|        -43.582205|           BR|Estrada Cabuçu de...|   Zona Oeste|2e6e5dfb-206c-496...|      2|     0|       Usado| Apartamento|Residencial|   1|               245|        null|       Venda|        15000|\n",
            "|    3|        43|       43|        1| Portão eletrônico|      Guaratiba|    23036060| Rio de Janeiro| Rio de Janeiro|       -22.948291|        -43.582205|           BR|Estrada Cabuçu de...|   Zona Oeste|2e6e5dfb-206c-496...|      2|     0|       Usado| Apartamento|Residencial|   1|               245|        null|       Venda|        15000|\n",
            "|    3|        43|       43|        1|Animais permitidos|      Guaratiba|    23036060| Rio de Janeiro| Rio de Janeiro|       -22.948291|        -43.582205|           BR|Estrada Cabuçu de...|   Zona Oeste|2e6e5dfb-206c-496...|      2|     0|       Usado| Apartamento|Residencial|   1|               245|        null|       Venda|        15000|\n",
            "|    3|        43|       43|        1|     Churrasqueira|      Paciência|    23585430| Rio de Janeiro| Rio de Janeiro|       -22.919851|        -43.634034|           BR|Estrada de Santa ...|   Zona Oeste|99f8d0f9-95a4-461...|      2|     0|       Usado| Apartamento|Residencial|   1|               245|        null|       Venda|        15000|\n",
            "|    3|        43|       43|        1|        Playground|      Paciência|    23585430| Rio de Janeiro| Rio de Janeiro|       -22.919851|        -43.634034|           BR|Estrada de Santa ...|   Zona Oeste|99f8d0f9-95a4-461...|      2|     0|       Usado| Apartamento|Residencial|   1|               245|        null|       Venda|        15000|\n",
            "|    3|        43|       43|        1|   Salão de festas|      Paciência|    23585430| Rio de Janeiro| Rio de Janeiro|       -22.919851|        -43.634034|           BR|Estrada de Santa ...|   Zona Oeste|99f8d0f9-95a4-461...|      2|     0|       Usado| Apartamento|Residencial|   1|               245|        null|       Venda|        15000|\n",
            "|    3|        43|       43|        1|Condomínio fechado|      Paciência|    23585430| Rio de Janeiro| Rio de Janeiro|       -22.919851|        -43.634034|           BR|Estrada de Santa ...|   Zona Oeste|99f8d0f9-95a4-461...|      2|     0|       Usado| Apartamento|Residencial|   1|               245|        null|       Venda|        15000|\n",
            "|    3|        43|       43|        1| Portão eletrônico|      Paciência|    23585430| Rio de Janeiro| Rio de Janeiro|       -22.919851|        -43.634034|           BR|Estrada de Santa ...|   Zona Oeste|99f8d0f9-95a4-461...|      2|     0|       Usado| Apartamento|Residencial|   1|               245|        null|       Venda|        15000|\n",
            "|    3|        43|       43|        1|      Portaria 24h|      Paciência|    23585430| Rio de Janeiro| Rio de Janeiro|       -22.919851|        -43.634034|           BR|Estrada de Santa ...|   Zona Oeste|99f8d0f9-95a4-461...|      2|     0|       Usado| Apartamento|Residencial|   1|               245|        null|       Venda|        15000|\n",
            "+-----+----------+---------+---------+------------------+---------------+------------+---------------+---------------+-----------------+------------------+-------------+--------------------+-------------+--------------------+-------+------+------------+------------+-----------+----+------------------+------------+------------+-------------+\n",
            "only showing top 20 rows\n",
            "\n"
          ]
        }
      ]
    },
    {
      "cell_type": "code",
      "source": [
        "'''\n",
        "\n",
        "* tipo_uso: **Residencial**;\n",
        "* tipo_unidade: **Apartamento**;\n",
        "* tipo_anuncio: **Usado**.\n",
        "'''\n",
        "filtro = anuncio.filter( (anuncio.tipo_anuncio == 'Usado') & (anuncio.tipo_unidade == 'Apartamento' )&  ( anuncio.tipo_uso == 'Residencial' )).show()\n"
      ],
      "metadata": {
        "colab": {
          "base_uri": "https://localhost:8080/",
          "height": 690
        },
        "id": "KzUQ0hlJ2tuQ",
        "outputId": "7b4442da-b003-488e-aa1a-eae921f8a60d"
      },
      "execution_count": 23,
      "outputs": [
        {
          "output_type": "stream",
          "name": "stdout",
          "text": [
            "+-----+----------+---------+---------+------------------+---------------+------------+---------------+---------------+-----------------+------------------+-------------+--------------------+-------------+--------------------+-------+------+------------+------------+-----------+----+------------------+------------+------------+-------------+\n",
            "|andar|area_total|area_util|banheiros|   caracteristicas|endereco_bairro|endereco_cep|endereco_cidade|endereco_estado|endereco_latitude|endereco_longitude|endereco_pais|        endereco_rua|endereco_zona|                  id|quartos|suites|tipo_anuncio|tipo_unidade|   tipo_uso|vaga|valores_condominio|valores_iptu|valores_tipo|valores_valor|\n",
            "+-----+----------+---------+---------+------------------+---------------+------------+---------------+---------------+-----------------+------------------+-------------+--------------------+-------------+--------------------+-------+------+------------+------------+-----------+----+------------------+------------+------------+-------------+\n",
            "|    3|        43|       43|        1|     Churrasqueira|         Cosmos|    23066271| Rio de Janeiro| Rio de Janeiro|       -22.888194|        -43.629602|           BR|Estrada da Paciência|   Zona Oeste|a2e6d7a5-0ff0-484...|      2|     0|       Usado| Apartamento|Residencial|   0|               285|        null|       Venda|        20000|\n",
            "|    3|        43|       43|        1|           Piscina|         Cosmos|    23066271| Rio de Janeiro| Rio de Janeiro|       -22.888194|        -43.629602|           BR|Estrada da Paciência|   Zona Oeste|a2e6d7a5-0ff0-484...|      2|     0|       Usado| Apartamento|Residencial|   0|               285|        null|       Venda|        20000|\n",
            "|    3|        43|       43|        1|        Playground|         Cosmos|    23066271| Rio de Janeiro| Rio de Janeiro|       -22.888194|        -43.629602|           BR|Estrada da Paciência|   Zona Oeste|a2e6d7a5-0ff0-484...|      2|     0|       Usado| Apartamento|Residencial|   0|               285|        null|       Venda|        20000|\n",
            "|    3|        43|       43|        1|   Salão de festas|         Cosmos|    23066271| Rio de Janeiro| Rio de Janeiro|       -22.888194|        -43.629602|           BR|Estrada da Paciência|   Zona Oeste|a2e6d7a5-0ff0-484...|      2|     0|       Usado| Apartamento|Residencial|   0|               285|        null|       Venda|        20000|\n",
            "|    3|        43|       43|        1|Condomínio fechado|         Cosmos|    23066271| Rio de Janeiro| Rio de Janeiro|       -22.888194|        -43.629602|           BR|Estrada da Paciência|   Zona Oeste|a2e6d7a5-0ff0-484...|      2|     0|       Usado| Apartamento|Residencial|   0|               285|        null|       Venda|        20000|\n",
            "|    3|        43|       43|        1|      Portaria 24h|         Cosmos|    23066271| Rio de Janeiro| Rio de Janeiro|       -22.888194|        -43.629602|           BR|Estrada da Paciência|   Zona Oeste|a2e6d7a5-0ff0-484...|      2|     0|       Usado| Apartamento|Residencial|   0|               285|        null|       Venda|        20000|\n",
            "|    3|        43|       43|        1| Portão eletrônico|         Cosmos|    23066271| Rio de Janeiro| Rio de Janeiro|       -22.888194|        -43.629602|           BR|Estrada da Paciência|   Zona Oeste|a2e6d7a5-0ff0-484...|      2|     0|       Usado| Apartamento|Residencial|   0|               285|        null|       Venda|        20000|\n",
            "|    3|        43|       43|        1|Animais permitidos|         Cosmos|    23066271| Rio de Janeiro| Rio de Janeiro|       -22.888194|        -43.629602|           BR|Estrada da Paciência|   Zona Oeste|a2e6d7a5-0ff0-484...|      2|     0|       Usado| Apartamento|Residencial|   0|               285|        null|       Venda|        20000|\n",
            "|    3|        43|       43|        1|     Churrasqueira|      Guaratiba|    23036060| Rio de Janeiro| Rio de Janeiro|       -22.948291|        -43.582205|           BR|Estrada Cabuçu de...|   Zona Oeste|2e6e5dfb-206c-496...|      2|     0|       Usado| Apartamento|Residencial|   1|               245|        null|       Venda|        15000|\n",
            "|    3|        43|       43|        1|        Playground|      Guaratiba|    23036060| Rio de Janeiro| Rio de Janeiro|       -22.948291|        -43.582205|           BR|Estrada Cabuçu de...|   Zona Oeste|2e6e5dfb-206c-496...|      2|     0|       Usado| Apartamento|Residencial|   1|               245|        null|       Venda|        15000|\n",
            "|    3|        43|       43|        1|   Salão de festas|      Guaratiba|    23036060| Rio de Janeiro| Rio de Janeiro|       -22.948291|        -43.582205|           BR|Estrada Cabuçu de...|   Zona Oeste|2e6e5dfb-206c-496...|      2|     0|       Usado| Apartamento|Residencial|   1|               245|        null|       Venda|        15000|\n",
            "|    3|        43|       43|        1|Condomínio fechado|      Guaratiba|    23036060| Rio de Janeiro| Rio de Janeiro|       -22.948291|        -43.582205|           BR|Estrada Cabuçu de...|   Zona Oeste|2e6e5dfb-206c-496...|      2|     0|       Usado| Apartamento|Residencial|   1|               245|        null|       Venda|        15000|\n",
            "|    3|        43|       43|        1| Portão eletrônico|      Guaratiba|    23036060| Rio de Janeiro| Rio de Janeiro|       -22.948291|        -43.582205|           BR|Estrada Cabuçu de...|   Zona Oeste|2e6e5dfb-206c-496...|      2|     0|       Usado| Apartamento|Residencial|   1|               245|        null|       Venda|        15000|\n",
            "|    3|        43|       43|        1|Animais permitidos|      Guaratiba|    23036060| Rio de Janeiro| Rio de Janeiro|       -22.948291|        -43.582205|           BR|Estrada Cabuçu de...|   Zona Oeste|2e6e5dfb-206c-496...|      2|     0|       Usado| Apartamento|Residencial|   1|               245|        null|       Venda|        15000|\n",
            "|    3|        43|       43|        1|     Churrasqueira|      Paciência|    23585430| Rio de Janeiro| Rio de Janeiro|       -22.919851|        -43.634034|           BR|Estrada de Santa ...|   Zona Oeste|99f8d0f9-95a4-461...|      2|     0|       Usado| Apartamento|Residencial|   1|               245|        null|       Venda|        15000|\n",
            "|    3|        43|       43|        1|        Playground|      Paciência|    23585430| Rio de Janeiro| Rio de Janeiro|       -22.919851|        -43.634034|           BR|Estrada de Santa ...|   Zona Oeste|99f8d0f9-95a4-461...|      2|     0|       Usado| Apartamento|Residencial|   1|               245|        null|       Venda|        15000|\n",
            "|    3|        43|       43|        1|   Salão de festas|      Paciência|    23585430| Rio de Janeiro| Rio de Janeiro|       -22.919851|        -43.634034|           BR|Estrada de Santa ...|   Zona Oeste|99f8d0f9-95a4-461...|      2|     0|       Usado| Apartamento|Residencial|   1|               245|        null|       Venda|        15000|\n",
            "|    3|        43|       43|        1|Condomínio fechado|      Paciência|    23585430| Rio de Janeiro| Rio de Janeiro|       -22.919851|        -43.634034|           BR|Estrada de Santa ...|   Zona Oeste|99f8d0f9-95a4-461...|      2|     0|       Usado| Apartamento|Residencial|   1|               245|        null|       Venda|        15000|\n",
            "|    3|        43|       43|        1| Portão eletrônico|      Paciência|    23585430| Rio de Janeiro| Rio de Janeiro|       -22.919851|        -43.634034|           BR|Estrada de Santa ...|   Zona Oeste|99f8d0f9-95a4-461...|      2|     0|       Usado| Apartamento|Residencial|   1|               245|        null|       Venda|        15000|\n",
            "|    3|        43|       43|        1|      Portaria 24h|      Paciência|    23585430| Rio de Janeiro| Rio de Janeiro|       -22.919851|        -43.634034|           BR|Estrada de Santa ...|   Zona Oeste|99f8d0f9-95a4-461...|      2|     0|       Usado| Apartamento|Residencial|   1|               245|        null|       Venda|        15000|\n",
            "+-----+----------+---------+---------+------------------+---------------+------------+---------------+---------------+-----------------+------------------+-------------+--------------------+-------------+--------------------+-------+------+------------+------------+-----------+----+------------------+------------+------------+-------------+\n",
            "only showing top 20 rows\n",
            "\n"
          ]
        },
        {
          "output_type": "error",
          "ename": "AttributeError",
          "evalue": "ignored",
          "traceback": [
            "\u001b[0;31m---------------------------------------------------------------------------\u001b[0m",
            "\u001b[0;31mAttributeError\u001b[0m                            Traceback (most recent call last)",
            "\u001b[0;32m<ipython-input-23-25d58a272656>\u001b[0m in \u001b[0;36m<module>\u001b[0;34m\u001b[0m\n\u001b[1;32m      6\u001b[0m '''\n\u001b[1;32m      7\u001b[0m \u001b[0mfiltro\u001b[0m \u001b[0;34m=\u001b[0m \u001b[0manuncio\u001b[0m\u001b[0;34m.\u001b[0m\u001b[0mfilter\u001b[0m\u001b[0;34m(\u001b[0m \u001b[0;34m(\u001b[0m\u001b[0manuncio\u001b[0m\u001b[0;34m.\u001b[0m\u001b[0mtipo_anuncio\u001b[0m \u001b[0;34m==\u001b[0m \u001b[0;34m'Usado'\u001b[0m\u001b[0;34m)\u001b[0m \u001b[0;34m&\u001b[0m \u001b[0;34m(\u001b[0m\u001b[0manuncio\u001b[0m\u001b[0;34m.\u001b[0m\u001b[0mtipo_unidade\u001b[0m \u001b[0;34m==\u001b[0m \u001b[0;34m'Apartamento'\u001b[0m \u001b[0;34m)\u001b[0m\u001b[0;34m&\u001b[0m  \u001b[0;34m(\u001b[0m \u001b[0manuncio\u001b[0m\u001b[0;34m.\u001b[0m\u001b[0mtipo_uso\u001b[0m \u001b[0;34m==\u001b[0m \u001b[0;34m'Residencial'\u001b[0m \u001b[0;34m)\u001b[0m\u001b[0;34m)\u001b[0m\u001b[0;34m.\u001b[0m\u001b[0mshow\u001b[0m\u001b[0;34m(\u001b[0m\u001b[0;34m)\u001b[0m\u001b[0;34m\u001b[0m\u001b[0;34m\u001b[0m\u001b[0m\n\u001b[0;32m----> 8\u001b[0;31m \u001b[0mfiltro\u001b[0m\u001b[0;34m.\u001b[0m\u001b[0mdescribe\u001b[0m\u001b[0;34m(\u001b[0m\u001b[0;34m)\u001b[0m\u001b[0;34m.\u001b[0m\u001b[0mshow\u001b[0m\u001b[0;34m(\u001b[0m\u001b[0;34m)\u001b[0m\u001b[0;34m\u001b[0m\u001b[0;34m\u001b[0m\u001b[0m\n\u001b[0m",
            "\u001b[0;31mAttributeError\u001b[0m: 'NoneType' object has no attribute 'describe'"
          ]
        }
      ]
    },
    {
      "cell_type": "code",
      "source": [
        "anuncio.describe().show()"
      ],
      "metadata": {
        "colab": {
          "base_uri": "https://localhost:8080/"
        },
        "id": "JuQPWC925eLn",
        "outputId": "468fea14-f523-4934-e08b-72ef48c8b921"
      },
      "execution_count": 24,
      "outputs": [
        {
          "output_type": "stream",
          "name": "stdout",
          "text": [
            "+-------+-----------------+------------------+------------------+------------------+---------------+---------------+--------------------+------------------+-----------------+-------------------+-------------------+-------------+--------------------+-------------+--------------------+------------------+------------------+------------+------------+-----------+------------------+------------------+-----------------+------------+------------------+\n",
            "|summary|            andar|        area_total|         area_util|         banheiros|caracteristicas|endereco_bairro|        endereco_cep|   endereco_cidade|  endereco_estado|  endereco_latitude| endereco_longitude|endereco_pais|        endereco_rua|endereco_zona|                  id|           quartos|            suites|tipo_anuncio|tipo_unidade|   tipo_uso|              vaga|valores_condominio|     valores_iptu|valores_tipo|     valores_valor|\n",
            "+-------+-----------------+------------------+------------------+------------------+---------------+---------------+--------------------+------------------+-----------------+-------------------+-------------------+-------------+--------------------+-------------+--------------------+------------------+------------------+------------+------------+-----------+------------------+------------------+-----------------+------------+------------------+\n",
            "|  count|           295092|            295092|            295092|            295092|         295092|         295092|              295092|            295092|           295092|             295092|             295092|       295092|              295092|       295092|              295092|            295092|            295092|      295092|      295092|     295092|            295092|            288693|           282088|      295092|            295092|\n",
            "|   mean|3.228806609464167| 1707.763988857712| 217.3322997573638|2.8270098816640234|           null|           null|2.2347461108610198E7|              null|             null|  -22.9675598117979|-43.338526521444244|         null|                null|         null|                null|2.8005774470334677|  1.49750586257845|        null|        null|       null| 1.681346834207637| 5882.809479273831|7962.629856640481|        null|1491302.1985448606|\n",
            "| stddev|19.94923461919116|119583.60024880437|20734.399730079527|1.5947177382621034|           null|           null|   830238.4553429636|              null|             null|0.04724930002646174| 0.1045616622140209|         null|                null|         null|                null|1.0234389778617283|1.2325788213730446|        null|        null|       null|1.5803079988765687|119463.79505773305|318432.2841437534|        null| 1754144.301601787|\n",
            "|    min|                0|                 0|                 0|                 0|       Academia|       Abolição|            20010000|      Cachoeirinha|Rio Grande do Sul|         -29.949169|         -51.075631|           BR|           Alameda A|             |00003eb1-1d77-43f...|                 0|                 0|       Usado| Apartamento|  Comercial|                 0|                 0|                0|     Aluguel|               200|\n",
            "|    max|             1234|          15022793|           6500025|                53|Salão de festas|     Água Santa|            94950565|São João de Meriti|   Rio de Janeiro|         -22.761403|         -43.110181|           BR|Travessa dos Cric...|     Zona Sul|fffe97aa-814b-4eb...|                49|                49|       Usado|      Outros|Residencial|               100|           9500000|         75122000|       Venda|          13900000|\n",
            "+-------+-----------------+------------------+------------------+------------------+---------------+---------------+--------------------+------------------+-----------------+-------------------+-------------------+-------------+--------------------+-------------+--------------------+------------------+------------------+------------+------------+-----------+------------------+------------------+-----------------+------------+------------------+\n",
            "\n"
          ]
        }
      ]
    },
    {
      "cell_type": "markdown",
      "source": [
        "# Salvando em Parquet"
      ],
      "metadata": {
        "id": "m4t2DvLK4I2v"
      }
    },
    {
      "cell_type": "code",
      "source": [
        "anuncio.write.parquet(\"anuncio.parquet\")"
      ],
      "metadata": {
        "id": "TC1BhjTy4LfP"
      },
      "execution_count": 21,
      "outputs": []
    },
    {
      "cell_type": "markdown",
      "source": [
        "# Salvando em csv"
      ],
      "metadata": {
        "id": "q_e980_D6vuP"
      }
    },
    {
      "cell_type": "code",
      "source": [
        "anuncio.write.csv('anuncio_csv.csv')"
      ],
      "metadata": {
        "id": "LNrswGbn62yu"
      },
      "execution_count": null,
      "outputs": []
    },
    {
      "cell_type": "markdown",
      "source": [],
      "metadata": {
        "id": "fi45X19gM6j0"
      }
    }
  ]
}